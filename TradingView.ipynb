{
 "cells": [
  {
   "cell_type": "code",
   "execution_count": 1,
   "outputs": [
    {
     "name": "stdout",
     "output_type": "stream",
     "text": [
      "                                       Stock       Price  Change    Volume  \\\n",
      "0               AAgilent Technologies, Inc.D  115.91 USD   0.90%     6.89M   \n",
      "1                       AAAlcoa CorporationD   28.85 USD  −4.44%    8.716M   \n",
      "2           AACAres Acquisition CorporationD   10.71 USD  −0.09%   19.471K   \n",
      "3            AACIArmada Acquisition Corp. ID   10.75 USD   0.00%       211   \n",
      "4       AACTAres Acquisition Corporation IID   10.25 USD   0.10%    14.04K   \n",
      "..                                       ...         ...     ...       ...   \n",
      "995         CLVRClever Leaves Holdings Inc.D    3.78 USD   0.53%    82.16K   \n",
      "996                       CLVTClarivate PlcD    7.35 USD   1.24%    6.997M   \n",
      "997         CLWClearwater Paper CorporationD   35.14 USD  −0.87%  317.045K   \n",
      "998  CLWTEuro Tech Holdings Company LimitedD    1.50 USD   1.35%    7.671K   \n",
      "999                 CLXClorox Company (The)D  146.20 USD  −2.17%    1.704M   \n",
      "\n",
      "       Market Cap PE Ratio        EPS   Dividend  Yield  \\\n",
      "0     33.914B USD    30.40   3.81 USD    −13.21%  0.76%   \n",
      "1      5.148B USD        —  −8.15 USD   −259.86%  1.39%   \n",
      "2    756.172M USD        —  −0.09 USD   −134.01%  0.00%   \n",
      "3     99.097M USD        —  −0.03 USD     86.19%  0.00%   \n",
      "4    640.625M USD        —          —          —  0.00%   \n",
      "..            ...      ...        ...        ...    ...   \n",
      "995    5.762M USD        —  −1.31 USD     95.10%  0.00%   \n",
      "996     4.97B USD        —  −6.41 USD  −1574.54%  0.00%   \n",
      "997   587.28M USD     8.77   4.01 USD     60.30%  0.00%   \n",
      "998   11.585M USD    31.45   0.05 USD    −52.35%  0.00%   \n",
      "999   18.103B USD   122.04   1.20 USD    −67.87%  3.24%   \n",
      "\n",
      "                    Sector Recommendation  \n",
      "0        Health Technology            Buy  \n",
      "1      Non-Energy Minerals        Neutral  \n",
      "2                  Finance              —  \n",
      "3                  Finance              —  \n",
      "4                  Finance              —  \n",
      "..                     ...            ...  \n",
      "995      Health Technology        Neutral  \n",
      "996    Commercial Services            Buy  \n",
      "997     Process Industries     Strong Buy  \n",
      "998  Electronic Technology              —  \n",
      "999  Consumer Non-Durables           Sell  \n",
      "\n",
      "[1000 rows x 11 columns]\n"
     ]
    }
   ],
   "source": [
    "from selenium import webdriver\n",
    "from selenium.webdriver.common.by import By\n",
    "from selenium.webdriver.support.ui import WebDriverWait\n",
    "from selenium.webdriver.support import expected_conditions as EC\n",
    "from bs4 import BeautifulSoup\n",
    "import pandas as pd\n",
    "\n",
    "# Khởi tạo trình duyệt Chrome\n",
    "driver = webdriver.Chrome()\n",
    "\n",
    "# Mở trang web Tradingview\n",
    "driver.get(\"https://www.tradingview.com/markets/stocks-usa/market-movers-all-stocks/\")\n",
    "\n",
    "# Số lần nhấn nút \"Load More\" tối đa (hoặc bạn có thể sử dụng điều kiện khác)\n",
    "max_loads = 10  # Thay đổi giá trị này nếu cần\n",
    "\n",
    "loads = 0\n",
    "data_rows = []\n",
    "\n",
    "while loads < max_loads:\n",
    "    try:\n",
    "        load_more_button = WebDriverWait(driver, 10).until(EC.element_to_be_clickable((By.CSS_SELECTOR, \".loadButton-SFwfC2e0\")))\n",
    "        load_more_button.click()\n",
    "        loads += 1\n",
    "    except:\n",
    "        break\n",
    "\n",
    "# Chờ cho dữ liệu được tải đầy đủ\n",
    "WebDriverWait(driver, 10).until(EC.invisibility_of_element_located((By.CSS_SELECTOR, \".loadingContent-2CAlGV8F\")))\n",
    "\n",
    "# Tạo biến soup1 từ trang web đã tải\n",
    "soup1 = BeautifulSoup(driver.page_source, 'html.parser')\n",
    "\n",
    "# Trích xuất dữ liệu và thêm vào danh sách dòng dữ liệu\n",
    "row_data = soup1.find_all('tr', class_='row-RdUXZpkv')\n",
    "for row in row_data:\n",
    "    row_data = row.find_all('td')\n",
    "    individual_row = [data.text.strip() for data in row_data]\n",
    "    if len(individual_row) == 11:  # Kiểm tra xem có đủ dữ liệu không\n",
    "        data_rows.append(individual_row)\n",
    "\n",
    "# Tạo DataFrame từ danh sách dòng dữ liệu\n",
    "data_for_all = pd.DataFrame(data_rows, columns=[\"Stock\", \"Price\", \"Change\", \"Volume\", \"Market Cap\", \"PE Ratio\", \"EPS\", \"Dividend\", \"Yield\", \"Sector\", \"Recommendation\"])\n",
    "\n",
    "# In ra DataFrame\n",
    "print(data_for_all)\n",
    "\n",
    "# Đóng trình duyệt sau khi hoàn thành\n",
    "driver.quit()"
   ],
   "metadata": {
    "collapsed": false,
    "ExecuteTime": {
     "end_time": "2023-09-16T17:18:26.623816200Z",
     "start_time": "2023-09-16T17:17:53.601035800Z"
    }
   },
   "id": "23e0cafc-0e01-4285-9f7c-a721b1ec7864"
  },
  {
   "cell_type": "code",
   "execution_count": null,
   "outputs": [],
   "source": [
    "#url = 'https://www.tradingview.com/markets/stocks-usa/market-movers-all-stocks/'\n",
    "\n",
    "#page = requests.get(url)\n",
    "\n",
    "#soup = BeautifulSoup(page.text, 'html')"
   ],
   "metadata": {
    "collapsed": false
   },
   "id": "f555ce47-a58c-4f8c-8d7f-59c1179fd904"
  },
  {
   "cell_type": "code",
   "execution_count": null,
   "outputs": [],
   "source": [
    "# Khởi tạo trình duyệt Chrome\n",
    "driver = webdriver.Chrome()\n",
    "\n",
    "# Mở trang web Tradingview\n",
    "driver.get(\"https://www.tradingview.com/markets/stocks-usa/market-movers-all-stocks/\")\n",
    "\n",
    "# Chờ cho nút \"Load More\" xuất hiện và bấm nó\n",
    "load_more_button = WebDriverWait(driver, 10).until(EC.element_to_be_clickable((By.CSS_SELECTOR, \".loadButton-SFwfC2e0\")))\n",
    "load_more_button.click()\n",
    "\n",
    "# Tải dữ liệu mới được tải lên\n",
    "new_data = driver.page_source\n",
    "\n",
    "# Đóng trình duyệt\n",
    "driver.quit()\n",
    "\n",
    "print(new_data)"
   ],
   "metadata": {
    "collapsed": false
   },
   "id": "04d1bd2a-c29b-423c-92c0-0f419094284a"
  },
  {
   "cell_type": "code",
   "execution_count": null,
   "outputs": [],
   "source": [
    "table = soup1.find('div', class_= \"shadow-zuRb9wy5\")"
   ],
   "metadata": {
    "collapsed": false
   },
   "id": "b1b83de14f663912"
  },
  {
   "cell_type": "code",
   "execution_count": null,
   "outputs": [],
   "source": [
    "trading_title = table.find_all('th', class_= \"cell-seAzPAHn\")\n",
    "clean_trading_title = [title.text for title in trading_title]"
   ],
   "metadata": {
    "collapsed": false
   },
   "id": "a4756a816de44381"
  },
  {
   "cell_type": "code",
   "execution_count": null,
   "outputs": [],
   "source": [
    "clean_trading_title_unique = []\n",
    "for item in clean_trading_title:\n",
    "    if item not in clean_trading_title_unique:\n",
    "       clean_trading_title_unique.append(item)"
   ],
   "metadata": {
    "collapsed": false
   },
   "id": "1a056adb8d6ac600"
  },
  {
   "cell_type": "code",
   "execution_count": null,
   "outputs": [],
   "source": [
    "clean_trading_title_unique"
   ],
   "metadata": {
    "collapsed": false
   },
   "id": "5b854619f7ff2ed3"
  },
  {
   "cell_type": "code",
   "execution_count": null,
   "outputs": [],
   "source": [
    "data_for_all = pd.DataFrame(columns = clean_trading_title_unique)\n",
    "\n",
    "data_for_all"
   ],
   "metadata": {
    "collapsed": false
   },
   "id": "8fb5009c97fc6a4c"
  },
  {
   "cell_type": "code",
   "execution_count": null,
   "outputs": [],
   "source": [
    "# Tạo đối tượng BeautifulSoup từ tệp dữ liệu new_data\n",
    "soup1 = BeautifulSoup(new_data, 'html')\n",
    "\n",
    "# Tìm tất cả các phần tử <tr> có thuộc tính class bằng \"row-RdUXZpkv\"\n",
    "row_data = soup1.find_all('tr', class_='row-RdUXZpkv')"
   ],
   "metadata": {
    "collapsed": false
   },
   "id": "c4da243b7f193e7a"
  },
  {
   "cell_type": "code",
   "execution_count": null,
   "outputs": [],
   "source": [
    "row_data"
   ],
   "metadata": {
    "collapsed": false
   },
   "id": "52b6de9d1f4575b6"
  },
  {
   "cell_type": "code",
   "execution_count": null,
   "outputs": [],
   "source": [
    "for row in row_data:\n",
    "    row_data = row.find_all('td')\n",
    "    individual_row = [data.text.strip() for data in row_data]\n",
    "    length = len(data_for_all)\n",
    "    data_for_all.loc[length] = individual_row"
   ],
   "metadata": {
    "collapsed": false
   },
   "id": "40bee44c6559d7c7"
  },
  {
   "cell_type": "code",
   "execution_count": null,
   "outputs": [],
   "source": [
    "data_for_all"
   ],
   "metadata": {
    "collapsed": false
   },
   "id": "3d2ad9a5c9c3a39"
  },
  {
   "cell_type": "code",
   "execution_count": null,
   "outputs": [],
   "source": [
    "row_data"
   ],
   "metadata": {
    "collapsed": false
   },
   "id": "13ada434b1fec495"
  },
  {
   "cell_type": "code",
   "execution_count": null,
   "outputs": [],
   "source": [
    "from selenium import webdriver\n",
    "from selenium.webdriver.common.by import By\n",
    "from selenium.webdriver.support.ui import WebDriverWait\n",
    "from selenium.webdriver.support import expected_conditions as EC\n",
    "from bs4 import BeautifulSoup\n",
    "import pandas as pd\n",
    "\n",
    "# Khởi tạo trình duyệt Chrome\n",
    "driver = webdriver.Chrome()\n",
    "\n",
    "# Mở trang web Tradingview\n",
    "driver.get(\"https://www.tradingview.com/markets/stocks-usa/market-movers-all-stocks/\")\n",
    "\n",
    "# Chờ cho nút \"Load More\" xuất hiện và bấm nó cho đến khi không còn\n",
    "while True:\n",
    "    try:\n",
    "        load_more_button = WebDriverWait(driver, 10).until(EC.element_to_be_clickable((By.CSS_SELECTOR, \".loadButton-SFwfC2e0\")))\n",
    "        load_more_button.click()\n",
    "    except:\n",
    "        break\n",
    "\n",
    "# Chờ cho dữ liệu được tải đầy đủ\n",
    "WebDriverWait(driver, 10).until(EC.invisibility_of_element_located((By.CSS_SELECTOR, \".loadingContent-2CAlGV8F\")))\n",
    "\n",
    "# Tạo biến soup1 từ trang web đã tải\n",
    "soup1 = BeautifulSoup(driver.page_source, 'html.parser')\n",
    "\n",
    "# Tạo DataFrame trước khi sử dụng\n",
    "data_for_all = pd.DataFrame(columns=[\"Stock\", \"Price\", \"Change\", \"Volume\", \"Market Cap\", \"PE Ratio\", \"EPS\", \"Dividend\", \"Yield\", \"Sector\", \"Recommendation\"])\n",
    "\n",
    "# Trích xuất dữ liệu và thêm vào DataFrame\n",
    "row_data = soup1.find_all('tr', class_='row-RdUXZpkv')\n",
    "for row in row_data:\n",
    "    row_data = row.find_all('td')\n",
    "    individual_row = [data.text.strip() for data in row_data]\n",
    "    if len(individual_row) == 11:  # Kiểm tra xem có đủ dữ liệu không\n",
    "        data_for_all = data_for_all.append(pd.Series(individual_row, index=data_for_all.columns), ignore_index=True)\n",
    "\n",
    "# In ra DataFrame\n",
    "print(data_for_all)\n",
    "\n",
    "# Đóng trình duyệt sau khi hoàn thành\n",
    "driver.quit()"
   ],
   "metadata": {
    "collapsed": false
   },
   "id": "78db186d142512f"
  }
 ],
 "metadata": {
  "kernelspec": {
   "display_name": "Python 3 (ipykernel)",
   "language": "python",
   "name": "python3"
  },
  "language_info": {
   "codemirror_mode": {
    "name": "ipython",
    "version": 3
   },
   "file_extension": ".py",
   "mimetype": "text/x-python",
   "name": "python",
   "nbconvert_exporter": "python",
   "pygments_lexer": "ipython3",
   "version": "3.9.13"
  }
 },
 "nbformat": 4,
 "nbformat_minor": 5
}

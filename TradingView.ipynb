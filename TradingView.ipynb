{
 "cells": [
  {
   "cell_type": "code",
   "execution_count": 21,
   "outputs": [],
   "source": [
    "from selenium import webdriver\n",
    "from selenium.webdriver.common.by import By\n",
    "from selenium.webdriver.support.ui import WebDriverWait\n",
    "from selenium.webdriver.support import expected_conditions as EC\n",
    "from bs4 import BeautifulSoup\n",
    "import pandas as pd\n",
    "\n",
    "# Khởi tạo trình duyệt Chrome\n",
    "driver = webdriver.Chrome()\n",
    "\n",
    "# Mở trang web Tradingview\n",
    "driver.get(\"https://www.tradingview.com/markets/stocks-usa/market-movers-all-stocks/\")\n",
    "\n",
    "# Số lần nhấn nút \"Load More\" tối đa (hoặc bạn có thể sử dụng điều kiện khác)\n",
    "max_loads = 5\n",
    "\n",
    "loads = 0\n",
    "data_rows = []\n",
    "\n",
    "while loads < max_loads:\n",
    "    try:\n",
    "        load_more_button = WebDriverWait(driver, 10).until(EC.element_to_be_clickable((By.CSS_SELECTOR, \".loadButton-SFwfC2e0\")))\n",
    "        load_more_button.click()\n",
    "        loads += 1\n",
    "    except:\n",
    "        break\n",
    "\n",
    "# Chờ cho dữ liệu được tải đầy đủ\n",
    "WebDriverWait(driver, 10).until(EC.invisibility_of_element_located((By.CSS_SELECTOR, \".loadingContent-2CAlGV8F\")))\n",
    "\n",
    "# Tạo biến soup1 từ trang web đã tải\n",
    "soup1 = BeautifulSoup(driver.page_source, 'html.parser')\n",
    "\n",
    "# Trích xuất dữ liệu và thêm vào danh sách dòng dữ liệu\n",
    "row_data = soup1.find_all('tr', class_='row-RdUXZpkv')\n",
    "for row in row_data:\n",
    "    row_data = row.find_all('td')\n",
    "    individual_row = [data.text.strip() for data in row_data]\n",
    "    if len(individual_row) == 11:  # Kiểm tra xem có đủ dữ liệu không\n",
    "        data_rows.append(individual_row)\n",
    "\n",
    "# Tạo DataFrame từ danh sách dòng dữ liệu\n",
    "data_for_all = pd.DataFrame(data_rows, columns=[\"Stock\", \"Price\", \"Change\", \"Volume\", \"Market Cap\", \"PE Ratio\", \"EPS\", \"Dividend\", \"Yield\", \"Sector\", \"Recommendation\"])\n",
    "\n",
    "# Đóng trình duyệt sau khi hoàn thành\n",
    "driver.quit()"
   ],
   "metadata": {
    "collapsed": false,
    "ExecuteTime": {
     "end_time": "2023-09-19T15:16:49.262463200Z",
     "start_time": "2023-09-19T15:16:14.966012700Z"
    }
   },
   "id": "88c27f41501ec2a6"
  },
  {
   "cell_type": "code",
   "execution_count": 22,
   "outputs": [
    {
     "data": {
      "text/plain": "                                           Stock       Price  Change  \\\n0                   AAgilent Technologies, Inc.D  111.87 USD  −0.73%   \n1                           AAAlcoa CorporationD   28.23 USD  −2.17%   \n2               AACAres Acquisition CorporationD   10.72 USD  −0.09%   \n3                AACIArmada Acquisition Corp. ID   10.70 USD  −0.47%   \n4           AACTAres Acquisition Corporation IID   10.28 USD   0.10%   \n..                                           ...         ...     ...   \n495  AYAtlantica Sustainable Infrastructure plcD   22.50 USD  −0.27%   \n496                      AYIAcuity Brands, Inc.D  164.97 USD  −0.52%   \n497                              AYROAYRO, Inc.D    2.99 USD   1.88%   \n498                    AYTUAytu BioPharma, Inc.D    1.67 USD   1.83%   \n499                            AYXAlteryx, Inc.D   35.97 USD  −1.51%   \n\n       Volume    Market Cap PE Ratio         EPS  Dividend  Yield  \\\n0    731.515K   32.732B USD    29.34    3.81 USD   −13.21%  0.79%   \n1      1.003M    5.037B USD        —   −8.15 USD  −259.86%  1.39%   \n2       1.44K  756.878M USD        —   −0.09 USD  −134.01%  0.00%   \n3         835   98.636M USD        —   −0.03 USD    86.19%  0.00%   \n4         100    642.5M USD        —           —         —  0.00%   \n..        ...           ...      ...         ...       ...    ...   \n495   35.062K    2.611B USD   184.43    0.12 USD         —  7.89%   \n496   37.523K    5.146B USD    14.20   11.62 USD    11.81%  0.31%   \n497   33.739K   14.079M USD        —   −5.12 USD    22.59%  0.00%   \n498       238    6.313M USD        —  −60.38 USD    26.73%  0.00%   \n499  344.563K    2.556B USD        —   −4.52 USD     0.50%  0.00%   \n\n                     Sector Recommendation  \n0         Health Technology            Buy  \n1       Non-Energy Minerals        Neutral  \n2                   Finance              —  \n3                   Finance              —  \n4                   Finance              —  \n..                      ...            ...  \n495               Utilities            Buy  \n496  Producer Manufacturing            Buy  \n497  Producer Manufacturing     Strong Buy  \n498       Health Technology     Strong Buy  \n499     Technology Services            Buy  \n\n[500 rows x 11 columns]",
      "text/html": "<div>\n<style scoped>\n    .dataframe tbody tr th:only-of-type {\n        vertical-align: middle;\n    }\n\n    .dataframe tbody tr th {\n        vertical-align: top;\n    }\n\n    .dataframe thead th {\n        text-align: right;\n    }\n</style>\n<table border=\"1\" class=\"dataframe\">\n  <thead>\n    <tr style=\"text-align: right;\">\n      <th></th>\n      <th>Stock</th>\n      <th>Price</th>\n      <th>Change</th>\n      <th>Volume</th>\n      <th>Market Cap</th>\n      <th>PE Ratio</th>\n      <th>EPS</th>\n      <th>Dividend</th>\n      <th>Yield</th>\n      <th>Sector</th>\n      <th>Recommendation</th>\n    </tr>\n  </thead>\n  <tbody>\n    <tr>\n      <th>0</th>\n      <td>AAgilent Technologies, Inc.D</td>\n      <td>111.87 USD</td>\n      <td>−0.73%</td>\n      <td>731.515K</td>\n      <td>32.732B USD</td>\n      <td>29.34</td>\n      <td>3.81 USD</td>\n      <td>−13.21%</td>\n      <td>0.79%</td>\n      <td>Health Technology</td>\n      <td>Buy</td>\n    </tr>\n    <tr>\n      <th>1</th>\n      <td>AAAlcoa CorporationD</td>\n      <td>28.23 USD</td>\n      <td>−2.17%</td>\n      <td>1.003M</td>\n      <td>5.037B USD</td>\n      <td>—</td>\n      <td>−8.15 USD</td>\n      <td>−259.86%</td>\n      <td>1.39%</td>\n      <td>Non-Energy Minerals</td>\n      <td>Neutral</td>\n    </tr>\n    <tr>\n      <th>2</th>\n      <td>AACAres Acquisition CorporationD</td>\n      <td>10.72 USD</td>\n      <td>−0.09%</td>\n      <td>1.44K</td>\n      <td>756.878M USD</td>\n      <td>—</td>\n      <td>−0.09 USD</td>\n      <td>−134.01%</td>\n      <td>0.00%</td>\n      <td>Finance</td>\n      <td>—</td>\n    </tr>\n    <tr>\n      <th>3</th>\n      <td>AACIArmada Acquisition Corp. ID</td>\n      <td>10.70 USD</td>\n      <td>−0.47%</td>\n      <td>835</td>\n      <td>98.636M USD</td>\n      <td>—</td>\n      <td>−0.03 USD</td>\n      <td>86.19%</td>\n      <td>0.00%</td>\n      <td>Finance</td>\n      <td>—</td>\n    </tr>\n    <tr>\n      <th>4</th>\n      <td>AACTAres Acquisition Corporation IID</td>\n      <td>10.28 USD</td>\n      <td>0.10%</td>\n      <td>100</td>\n      <td>642.5M USD</td>\n      <td>—</td>\n      <td>—</td>\n      <td>—</td>\n      <td>0.00%</td>\n      <td>Finance</td>\n      <td>—</td>\n    </tr>\n    <tr>\n      <th>...</th>\n      <td>...</td>\n      <td>...</td>\n      <td>...</td>\n      <td>...</td>\n      <td>...</td>\n      <td>...</td>\n      <td>...</td>\n      <td>...</td>\n      <td>...</td>\n      <td>...</td>\n      <td>...</td>\n    </tr>\n    <tr>\n      <th>495</th>\n      <td>AYAtlantica Sustainable Infrastructure plcD</td>\n      <td>22.50 USD</td>\n      <td>−0.27%</td>\n      <td>35.062K</td>\n      <td>2.611B USD</td>\n      <td>184.43</td>\n      <td>0.12 USD</td>\n      <td>—</td>\n      <td>7.89%</td>\n      <td>Utilities</td>\n      <td>Buy</td>\n    </tr>\n    <tr>\n      <th>496</th>\n      <td>AYIAcuity Brands, Inc.D</td>\n      <td>164.97 USD</td>\n      <td>−0.52%</td>\n      <td>37.523K</td>\n      <td>5.146B USD</td>\n      <td>14.20</td>\n      <td>11.62 USD</td>\n      <td>11.81%</td>\n      <td>0.31%</td>\n      <td>Producer Manufacturing</td>\n      <td>Buy</td>\n    </tr>\n    <tr>\n      <th>497</th>\n      <td>AYROAYRO, Inc.D</td>\n      <td>2.99 USD</td>\n      <td>1.88%</td>\n      <td>33.739K</td>\n      <td>14.079M USD</td>\n      <td>—</td>\n      <td>−5.12 USD</td>\n      <td>22.59%</td>\n      <td>0.00%</td>\n      <td>Producer Manufacturing</td>\n      <td>Strong Buy</td>\n    </tr>\n    <tr>\n      <th>498</th>\n      <td>AYTUAytu BioPharma, Inc.D</td>\n      <td>1.67 USD</td>\n      <td>1.83%</td>\n      <td>238</td>\n      <td>6.313M USD</td>\n      <td>—</td>\n      <td>−60.38 USD</td>\n      <td>26.73%</td>\n      <td>0.00%</td>\n      <td>Health Technology</td>\n      <td>Strong Buy</td>\n    </tr>\n    <tr>\n      <th>499</th>\n      <td>AYXAlteryx, Inc.D</td>\n      <td>35.97 USD</td>\n      <td>−1.51%</td>\n      <td>344.563K</td>\n      <td>2.556B USD</td>\n      <td>—</td>\n      <td>−4.52 USD</td>\n      <td>0.50%</td>\n      <td>0.00%</td>\n      <td>Technology Services</td>\n      <td>Buy</td>\n    </tr>\n  </tbody>\n</table>\n<p>500 rows × 11 columns</p>\n</div>"
     },
     "execution_count": 22,
     "metadata": {},
     "output_type": "execute_result"
    }
   ],
   "source": [
    "data_for_all"
   ],
   "metadata": {
    "collapsed": false,
    "ExecuteTime": {
     "end_time": "2023-09-19T15:16:49.324695600Z",
     "start_time": "2023-09-19T15:16:49.285527200Z"
    }
   },
   "id": "78db186d142512f"
  },
  {
   "cell_type": "code",
   "execution_count": 23,
   "outputs": [
    {
     "name": "stdout",
     "output_type": "stream",
     "text": [
      "                                           Stock   Price  Change    Volume  \\\n",
      "0                   AAgilent Technologies, Inc.D  111.87  −0.73%  731.515K   \n",
      "1                           AAAlcoa CorporationD   28.23  −2.17%    1.003M   \n",
      "2               AACAres Acquisition CorporationD   10.72  −0.09%     1.44K   \n",
      "3                AACIArmada Acquisition Corp. ID   10.70  −0.47%       835   \n",
      "4           AACTAres Acquisition Corporation IID   10.28   0.10%       100   \n",
      "..                                           ...     ...     ...       ...   \n",
      "495  AYAtlantica Sustainable Infrastructure plcD   22.50  −0.27%   35.062K   \n",
      "496                      AYIAcuity Brands, Inc.D  164.97  −0.52%   37.523K   \n",
      "497                              AYROAYRO, Inc.D    2.99   1.88%   33.739K   \n",
      "498                    AYTUAytu BioPharma, Inc.D    1.67   1.83%       238   \n",
      "499                            AYXAlteryx, Inc.D   35.97  −1.51%  344.563K   \n",
      "\n",
      "    Market Cap PE Ratio     EPS  Dividend  Yield                  Sector  \\\n",
      "0      32.732B    29.34    3.81   −13.21%  0.79%       Health Technology   \n",
      "1       5.037B        —   −8.15  −259.86%  1.39%     Non-Energy Minerals   \n",
      "2     756.878M        —   −0.09  −134.01%  0.00%                 Finance   \n",
      "3      98.636M        —   −0.03    86.19%  0.00%                 Finance   \n",
      "4       642.5M        —       —         —  0.00%                 Finance   \n",
      "..         ...      ...     ...       ...    ...                     ...   \n",
      "495     2.611B   184.43    0.12         —  7.89%               Utilities   \n",
      "496     5.146B    14.20   11.62    11.81%  0.31%  Producer Manufacturing   \n",
      "497    14.079M        —   −5.12    22.59%  0.00%  Producer Manufacturing   \n",
      "498     6.313M        —  −60.38    26.73%  0.00%       Health Technology   \n",
      "499     2.556B        —   −4.52     0.50%  0.00%     Technology Services   \n",
      "\n",
      "    Recommendation  \n",
      "0              Buy  \n",
      "1          Neutral  \n",
      "2                —  \n",
      "3                —  \n",
      "4                —  \n",
      "..             ...  \n",
      "495            Buy  \n",
      "496            Buy  \n",
      "497     Strong Buy  \n",
      "498     Strong Buy  \n",
      "499            Buy  \n",
      "\n",
      "[500 rows x 11 columns]\n"
     ]
    }
   ],
   "source": [
    "# Danh sách các cột chứa ký tự 'USD'\n",
    "usd_columns = [\"Price\", \"Market Cap\", \"EPS\"]\n",
    "\n",
    "# Chuyển đổi cột sang kiểu chuỗi và sau đó loại bỏ chữ 'USD'\n",
    "for column in usd_columns:\n",
    "    data_for_all[column] = data_for_all[column].astype(str).str.replace(' USD', '')\n",
    "\n",
    "# In ra DataFrame sau khi đã loại bỏ 'USD'\n",
    "print(data_for_all)"
   ],
   "metadata": {
    "collapsed": false,
    "ExecuteTime": {
     "end_time": "2023-09-19T15:16:49.338761600Z",
     "start_time": "2023-09-19T15:16:49.298586Z"
    }
   },
   "id": "a30b407ff5f79442"
  },
  {
   "cell_type": "code",
   "execution_count": 24,
   "outputs": [
    {
     "data": {
      "text/plain": "Stock             0\nPrice             0\nChange            0\nVolume            0\nMarket Cap        0\nPE Ratio          0\nEPS               0\nDividend          0\nYield             0\nSector            0\nRecommendation    0\ndtype: int64"
     },
     "execution_count": 24,
     "metadata": {},
     "output_type": "execute_result"
    }
   ],
   "source": [
    "data_for_all.fillna(0, inplace=True)\n",
    "data_for_all.isnull().sum()"
   ],
   "metadata": {
    "collapsed": false,
    "ExecuteTime": {
     "end_time": "2023-09-19T15:16:49.420885900Z",
     "start_time": "2023-09-19T15:16:49.332256700Z"
    }
   },
   "id": "e2e658703b126abf"
  },
  {
   "cell_type": "code",
   "execution_count": 25,
   "outputs": [],
   "source": [
    "# Hàm để quy đổi đơn vị\n",
    "def convert_volume(value):\n",
    "    if 'M' in value:\n",
    "        return float(value.replace('M', '')) * 1e6\n",
    "    elif 'B' in value:\n",
    "        return float(value.replace('B', '')) * 1e9\n",
    "    elif 'K' in value:\n",
    "        return float(value.replace('K', '')) * 1e3\n",
    "    else:\n",
    "        return float(value)\n",
    "\n",
    "# Áp dụng hàm cho cột \"Volume\"\n",
    "data_for_all['Volume'] = data_for_all['Volume'].apply(convert_volume)"
   ],
   "metadata": {
    "collapsed": false,
    "ExecuteTime": {
     "end_time": "2023-09-19T15:16:49.422884100Z",
     "start_time": "2023-09-19T15:16:49.362171100Z"
    }
   },
   "id": "ecc016136ad24944"
  },
  {
   "cell_type": "code",
   "execution_count": 26,
   "outputs": [],
   "source": [
    "def convert_market_cap(value):\n",
    "    if 'T' in value:\n",
    "        return float(value.replace('T', '')) * 1e12  # Chuyển đổi tỷ thành 10^12\n",
    "    elif 'B' in value:\n",
    "        return float(value.replace('B', '')) * 1e9   # Chuyển đổi tỉ thành 10^9\n",
    "    elif 'M' in value:\n",
    "        return float(value.replace('M', '')) * 1e6   # Chuyển đổi triệu thành 10^6\n",
    "    elif 'K' in value:\n",
    "        return float(value.replace('K', '')) * 1e3   # Chuyển đổi ngàn thành 10^3\n",
    "    else:\n",
    "        return float(value)\n",
    "\n",
    "# Áp dụng hàm cho cột \"Market Cap\"\n",
    "data_for_all['Market Cap'] = data_for_all['Market Cap'].apply(convert_market_cap)"
   ],
   "metadata": {
    "collapsed": false,
    "ExecuteTime": {
     "end_time": "2023-09-19T15:16:49.478006900Z",
     "start_time": "2023-09-19T15:16:49.391798800Z"
    }
   },
   "id": "650f35d094782fe1"
  },
  {
   "cell_type": "code",
   "execution_count": 27,
   "outputs": [
    {
     "data": {
      "text/plain": "                                           Stock   Price  Change     Volume  \\\n0                   AAgilent Technologies, Inc.D  111.87  −0.73%   731515.0   \n1                           AAAlcoa CorporationD   28.23  −2.17%  1003000.0   \n2               AACAres Acquisition CorporationD   10.72  −0.09%     1440.0   \n3                AACIArmada Acquisition Corp. ID   10.70  −0.47%      835.0   \n4           AACTAres Acquisition Corporation IID   10.28   0.10%      100.0   \n..                                           ...     ...     ...        ...   \n495  AYAtlantica Sustainable Infrastructure plcD   22.50  −0.27%    35062.0   \n496                      AYIAcuity Brands, Inc.D  164.97  −0.52%    37523.0   \n497                              AYROAYRO, Inc.D    2.99   1.88%    33739.0   \n498                    AYTUAytu BioPharma, Inc.D    1.67   1.83%      238.0   \n499                            AYXAlteryx, Inc.D   35.97  −1.51%   344563.0   \n\n       Market Cap PE Ratio     EPS  Dividend  Yield                  Sector  \\\n0    3.273200e+10    29.34    3.81   −13.21%  0.79%       Health Technology   \n1    5.037000e+09        —   −8.15  −259.86%  1.39%     Non-Energy Minerals   \n2    7.568780e+08        —   −0.09  −134.01%  0.00%                 Finance   \n3    9.863600e+07        —   −0.03    86.19%  0.00%                 Finance   \n4    6.425000e+08        —       —         —  0.00%                 Finance   \n..            ...      ...     ...       ...    ...                     ...   \n495  2.611000e+09   184.43    0.12         —  7.89%               Utilities   \n496  5.146000e+09    14.20   11.62    11.81%  0.31%  Producer Manufacturing   \n497  1.407900e+07        —   −5.12    22.59%  0.00%  Producer Manufacturing   \n498  6.313000e+06        —  −60.38    26.73%  0.00%       Health Technology   \n499  2.556000e+09        —   −4.52     0.50%  0.00%     Technology Services   \n\n    Recommendation  \n0              Buy  \n1          Neutral  \n2                —  \n3                —  \n4                —  \n..             ...  \n495            Buy  \n496            Buy  \n497     Strong Buy  \n498     Strong Buy  \n499            Buy  \n\n[500 rows x 11 columns]",
      "text/html": "<div>\n<style scoped>\n    .dataframe tbody tr th:only-of-type {\n        vertical-align: middle;\n    }\n\n    .dataframe tbody tr th {\n        vertical-align: top;\n    }\n\n    .dataframe thead th {\n        text-align: right;\n    }\n</style>\n<table border=\"1\" class=\"dataframe\">\n  <thead>\n    <tr style=\"text-align: right;\">\n      <th></th>\n      <th>Stock</th>\n      <th>Price</th>\n      <th>Change</th>\n      <th>Volume</th>\n      <th>Market Cap</th>\n      <th>PE Ratio</th>\n      <th>EPS</th>\n      <th>Dividend</th>\n      <th>Yield</th>\n      <th>Sector</th>\n      <th>Recommendation</th>\n    </tr>\n  </thead>\n  <tbody>\n    <tr>\n      <th>0</th>\n      <td>AAgilent Technologies, Inc.D</td>\n      <td>111.87</td>\n      <td>−0.73%</td>\n      <td>731515.0</td>\n      <td>3.273200e+10</td>\n      <td>29.34</td>\n      <td>3.81</td>\n      <td>−13.21%</td>\n      <td>0.79%</td>\n      <td>Health Technology</td>\n      <td>Buy</td>\n    </tr>\n    <tr>\n      <th>1</th>\n      <td>AAAlcoa CorporationD</td>\n      <td>28.23</td>\n      <td>−2.17%</td>\n      <td>1003000.0</td>\n      <td>5.037000e+09</td>\n      <td>—</td>\n      <td>−8.15</td>\n      <td>−259.86%</td>\n      <td>1.39%</td>\n      <td>Non-Energy Minerals</td>\n      <td>Neutral</td>\n    </tr>\n    <tr>\n      <th>2</th>\n      <td>AACAres Acquisition CorporationD</td>\n      <td>10.72</td>\n      <td>−0.09%</td>\n      <td>1440.0</td>\n      <td>7.568780e+08</td>\n      <td>—</td>\n      <td>−0.09</td>\n      <td>−134.01%</td>\n      <td>0.00%</td>\n      <td>Finance</td>\n      <td>—</td>\n    </tr>\n    <tr>\n      <th>3</th>\n      <td>AACIArmada Acquisition Corp. ID</td>\n      <td>10.70</td>\n      <td>−0.47%</td>\n      <td>835.0</td>\n      <td>9.863600e+07</td>\n      <td>—</td>\n      <td>−0.03</td>\n      <td>86.19%</td>\n      <td>0.00%</td>\n      <td>Finance</td>\n      <td>—</td>\n    </tr>\n    <tr>\n      <th>4</th>\n      <td>AACTAres Acquisition Corporation IID</td>\n      <td>10.28</td>\n      <td>0.10%</td>\n      <td>100.0</td>\n      <td>6.425000e+08</td>\n      <td>—</td>\n      <td>—</td>\n      <td>—</td>\n      <td>0.00%</td>\n      <td>Finance</td>\n      <td>—</td>\n    </tr>\n    <tr>\n      <th>...</th>\n      <td>...</td>\n      <td>...</td>\n      <td>...</td>\n      <td>...</td>\n      <td>...</td>\n      <td>...</td>\n      <td>...</td>\n      <td>...</td>\n      <td>...</td>\n      <td>...</td>\n      <td>...</td>\n    </tr>\n    <tr>\n      <th>495</th>\n      <td>AYAtlantica Sustainable Infrastructure plcD</td>\n      <td>22.50</td>\n      <td>−0.27%</td>\n      <td>35062.0</td>\n      <td>2.611000e+09</td>\n      <td>184.43</td>\n      <td>0.12</td>\n      <td>—</td>\n      <td>7.89%</td>\n      <td>Utilities</td>\n      <td>Buy</td>\n    </tr>\n    <tr>\n      <th>496</th>\n      <td>AYIAcuity Brands, Inc.D</td>\n      <td>164.97</td>\n      <td>−0.52%</td>\n      <td>37523.0</td>\n      <td>5.146000e+09</td>\n      <td>14.20</td>\n      <td>11.62</td>\n      <td>11.81%</td>\n      <td>0.31%</td>\n      <td>Producer Manufacturing</td>\n      <td>Buy</td>\n    </tr>\n    <tr>\n      <th>497</th>\n      <td>AYROAYRO, Inc.D</td>\n      <td>2.99</td>\n      <td>1.88%</td>\n      <td>33739.0</td>\n      <td>1.407900e+07</td>\n      <td>—</td>\n      <td>−5.12</td>\n      <td>22.59%</td>\n      <td>0.00%</td>\n      <td>Producer Manufacturing</td>\n      <td>Strong Buy</td>\n    </tr>\n    <tr>\n      <th>498</th>\n      <td>AYTUAytu BioPharma, Inc.D</td>\n      <td>1.67</td>\n      <td>1.83%</td>\n      <td>238.0</td>\n      <td>6.313000e+06</td>\n      <td>—</td>\n      <td>−60.38</td>\n      <td>26.73%</td>\n      <td>0.00%</td>\n      <td>Health Technology</td>\n      <td>Strong Buy</td>\n    </tr>\n    <tr>\n      <th>499</th>\n      <td>AYXAlteryx, Inc.D</td>\n      <td>35.97</td>\n      <td>−1.51%</td>\n      <td>344563.0</td>\n      <td>2.556000e+09</td>\n      <td>—</td>\n      <td>−4.52</td>\n      <td>0.50%</td>\n      <td>0.00%</td>\n      <td>Technology Services</td>\n      <td>Buy</td>\n    </tr>\n  </tbody>\n</table>\n<p>500 rows × 11 columns</p>\n</div>"
     },
     "execution_count": 27,
     "metadata": {},
     "output_type": "execute_result"
    }
   ],
   "source": [
    "data_for_all"
   ],
   "metadata": {
    "collapsed": false,
    "ExecuteTime": {
     "end_time": "2023-09-19T15:16:49.570340900Z",
     "start_time": "2023-09-19T15:16:49.404331600Z"
    }
   },
   "id": "e871fb9a8aaa2ef2"
  },
  {
   "cell_type": "code",
   "execution_count": 28,
   "outputs": [],
   "source": [
    "# Importing libraries\n",
    "import pandas as pd\n",
    "import matplotlib.pyplot as plt\n",
    "\n",
    "# To plot pretty figures\n",
    "%matplotlib inline\n",
    "import matplotlib as mpl"
   ],
   "metadata": {
    "collapsed": false,
    "ExecuteTime": {
     "end_time": "2023-09-19T15:16:49.615428300Z",
     "start_time": "2023-09-19T15:16:49.435989Z"
    }
   },
   "id": "6c0ea3ce3b8f8634"
  },
  {
   "cell_type": "code",
   "execution_count": 29,
   "outputs": [
    {
     "data": {
      "text/plain": "<Figure size 576x432 with 1 Axes>",
      "image/png": "[encoded data removed]"
     },
     "metadata": {
      "needs_background": "light"
     },
     "output_type": "display_data"
    }
   ],
   "source": [
    "# Count number of unique sectors\n",
    "sector_counts = data_for_all['Sector'].value_counts()\n",
    "sector_counts = sector_counts.rename_axis('Sector').reset_index(name='Number of stocks available')\n",
    "# print(sector_counts)\n",
    "\n",
    "# Draw a bar chart showing number of stocks available in each sector\n",
    "fig, ax = plt.subplots(figsize=(8, 6))\n",
    "bars = plt.bar(sector_counts['Sector'], sector_counts['Number of stocks available'])\n",
    "plt.xlabel('Sector', fontweight='bold')\n",
    "plt.ylabel('Number of stocks available', fontweight='bold')\n",
    "plt.title('Number of stocks available in each Sector', fontweight='extra bold')\n",
    "plt.xticks(rotation=90)  # Rotate x-axis labels if needed\n",
    "\n",
    "# Annotate each bar with its respective value\n",
    "for bar in bars:\n",
    "    height = bar.get_height()\n",
    "    ax.annotate(f'{height}',\n",
    "                xy=(bar.get_x() + bar.get_width() / 2, height),\n",
    "                xytext=(0, 3),  # 3 points vertical offset\n",
    "                textcoords=\"offset points\",\n",
    "                ha='center', va='bottom')\n",
    "\n",
    "plt.show()"
   ],
   "metadata": {
    "collapsed": false,
    "ExecuteTime": {
     "end_time": "2023-09-19T15:16:50.644978800Z",
     "start_time": "2023-09-19T15:16:49.643978Z"
    }
   },
   "id": "1557a30e18b531ab"
  },
  {
   "cell_type": "code",
   "execution_count": 30,
   "outputs": [
    {
     "data": {
      "text/plain": "<Figure size 1080x216 with 3 Axes>",
      "image/png": "[encoded data removed]"
     },
     "metadata": {
      "needs_background": "light"
     },
     "output_type": "display_data"
    }
   ],
   "source": [
    "data_for_all['Price'] = pd.to_numeric(data_for_all['Price'], errors='coerce')\n",
    "data_for_all['Market Cap'] = pd.to_numeric(data_for_all['Market Cap'], errors='coerce')\n",
    "data_for_all['Volume'] = pd.to_numeric(data_for_all['Volume'], errors='coerce')\n",
    "\n",
    "# Create a figure with subplots\n",
    "plt.figure(figsize=(15, 3))\n",
    "\n",
    "# Boxplot for 'Price'\n",
    "plt.subplot(1, 3, 1)\n",
    "plt.boxplot(data_for_all['Price'], vert=False)\n",
    "plt.title('Boxplot of Price')\n",
    "plt.xlabel('Price')\n",
    "plt.grid(True)\n",
    "\n",
    "# Boxplot for 'Market Cap'\n",
    "plt.subplot(1, 3, 2)\n",
    "plt.boxplot(data_for_all['Volume'], vert=False)\n",
    "plt.title('Boxplot of Volume')\n",
    "plt.xlabel('Volume')\n",
    "plt.grid(True)\n",
    "\n",
    "# Boxplot for 'Volume'\n",
    "plt.subplot(1, 3, 3)\n",
    "plt.boxplot(data_for_all['Market Cap'], vert=False)\n",
    "plt.title('Boxplot of Market Cap')\n",
    "plt.xlabel('Market Cap')\n",
    "plt.grid(True)\n",
    "\n",
    "# Adjust spacing between subplots\n",
    "plt.tight_layout()\n",
    "\n",
    "# Show the plots\n",
    "plt.show()"
   ],
   "metadata": {
    "collapsed": false,
    "ExecuteTime": {
     "end_time": "2023-09-19T15:16:51.118558600Z",
     "start_time": "2023-09-19T15:16:50.626896800Z"
    }
   },
   "id": "938ba5eed480a653"
  },
  {
   "cell_type": "code",
   "execution_count": 31,
   "outputs": [
    {
     "name": "stdout",
     "output_type": "stream",
     "text": [
      "Price Skew: 4.94\n",
      "Standard Deviation of Price: 72.95\n",
      "Variance of Price: 5321.00\n",
      "Volume Skew: 9.50\n",
      "Standard Deviation of Volume: 2216551.43\n",
      "Variance of Volume: 4913100245776.66\n",
      "Market Cap Skew: 16.82\n",
      "Standard Deviation of Market Cap: 141383180995.33\n",
      "Variance of Market Cap: 19989203868358537117696.00\n"
     ]
    }
   ],
   "source": [
    "# Check the Skew, Standard Deviation and Variance of Stock Price\n",
    "price_skew = data_for_all['Price'].skew()\n",
    "price_std_deviation = data_for_all['Price'].std()\n",
    "price_variance = data_for_all['Price'].var()\n",
    "\n",
    "print(f'Price Skew: {price_skew:.2f}')\n",
    "print(f'Standard Deviation of Price: {price_std_deviation:.2f}')\n",
    "print(f'Variance of Price: {price_variance:.2f}')\n",
    "\n",
    "# Check the Skew, Standard Deviation and Variance of Stock Volume\n",
    "price_skew = data_for_all['Volume'].skew()\n",
    "price_std_deviation = data_for_all['Volume'].std()\n",
    "price_variance = data_for_all['Volume'].var()\n",
    "\n",
    "print(f'Volume Skew: {price_skew:.2f}')\n",
    "print(f'Standard Deviation of Volume: {price_std_deviation:.2f}')\n",
    "print(f'Variance of Volume: {price_variance:.2f}')\n",
    "\n",
    "# Check the Skew, Standard Deviation and Variance of Stock's Market Cap\n",
    "price_skew = data_for_all['Market Cap'].skew()\n",
    "price_std_deviation = data_for_all['Market Cap'].std()\n",
    "price_variance = data_for_all['Market Cap'].var()\n",
    "\n",
    "print(f'Market Cap Skew: {price_skew:.2f}')\n",
    "print(f'Standard Deviation of Market Cap: {price_std_deviation:.2f}')\n",
    "print(f'Variance of Market Cap: {price_variance:.2f}')"
   ],
   "metadata": {
    "collapsed": false,
    "ExecuteTime": {
     "end_time": "2023-09-19T15:16:51.144642400Z",
     "start_time": "2023-09-19T15:16:51.124571800Z"
    }
   },
   "id": "4497c706bbd9fee0"
  },
  {
   "cell_type": "code",
   "execution_count": 32,
   "outputs": [
    {
     "data": {
      "text/plain": "4.94452571727772"
     },
     "execution_count": 32,
     "metadata": {},
     "output_type": "execute_result"
    }
   ],
   "source": [
    "data_for_all[\"Price\"].skew()"
   ],
   "metadata": {
    "collapsed": false,
    "ExecuteTime": {
     "end_time": "2023-09-19T15:16:51.244396700Z",
     "start_time": "2023-09-19T15:16:51.137110200Z"
    }
   },
   "id": "4a0e1acd811ff799"
  },
  {
   "cell_type": "code",
   "execution_count": 33,
   "outputs": [],
   "source": [
    "data_for_all[\"Price\"].quantile(0.995)\n",
    "data_for_all = data_for_all[data_for_all[\"Price\"]<data_for_all[\"Price\"].quantile(0.995)].reset_index(drop=True)"
   ],
   "metadata": {
    "collapsed": false,
    "ExecuteTime": {
     "end_time": "2023-09-19T15:16:51.246405900Z",
     "start_time": "2023-09-19T15:16:51.151202500Z"
    }
   },
   "id": "e8d78095408075de"
  },
  {
   "cell_type": "code",
   "execution_count": 34,
   "outputs": [
    {
     "data": {
      "text/plain": "2.8431394809712005"
     },
     "execution_count": 34,
     "metadata": {},
     "output_type": "execute_result"
    }
   ],
   "source": [
    "data_for_all[\"Price\"].skew()"
   ],
   "metadata": {
    "collapsed": false,
    "ExecuteTime": {
     "end_time": "2023-09-19T15:16:51.247973700Z",
     "start_time": "2023-09-19T15:16:51.163232500Z"
    }
   },
   "id": "90324ac0368b2914"
  },
  {
   "cell_type": "code",
   "execution_count": 35,
   "outputs": [
    {
     "data": {
      "text/plain": "<Figure size 1080x216 with 3 Axes>",
      "image/png": "[encoded data removed]"
     },
     "metadata": {
      "needs_background": "light"
     },
     "output_type": "display_data"
    }
   ],
   "source": [
    "# Create a single figure with three subplots\n",
    "fig, axs = plt.subplots(1, 3, figsize=(15, 3))\n",
    "\n",
    "# Boxplot for Price\n",
    "axs[0].boxplot(data_for_all['Price'], vert=False)\n",
    "axs[0].set_title('Boxplot of Price')\n",
    "axs[0].set_xlabel('Price')\n",
    "axs[0].grid(True)\n",
    "\n",
    "# Boxplot for Volume\n",
    "axs[1].boxplot(data_for_all['Volume'], vert=False)\n",
    "axs[1].set_title('Boxplot of Volume')\n",
    "axs[1].set_xlabel('Volume')\n",
    "axs[1].grid(True)\n",
    "\n",
    "# Boxplot for Market Cap\n",
    "axs[2].boxplot(data_for_all['Market Cap'], vert=False)\n",
    "axs[2].set_title('Boxplot of Market Cap')\n",
    "axs[2].set_xlabel('Market Cap')\n",
    "axs[2].grid(True)\n",
    "\n",
    "# Adjust layout to prevent overlap\n",
    "plt.tight_layout()\n",
    "\n",
    "# Show the figure with subplots\n",
    "plt.show()"
   ],
   "metadata": {
    "collapsed": false,
    "ExecuteTime": {
     "end_time": "2023-09-19T15:16:51.720043600Z",
     "start_time": "2023-09-19T15:16:51.169747800Z"
    }
   },
   "id": "74894a2fbc2e5904"
  },
  {
   "cell_type": "code",
   "execution_count": 36,
   "outputs": [
    {
     "data": {
      "text/plain": "            Price        Volume    Market Cap\ncount  497.000000  4.970000e+02  4.970000e+02\nmean    34.102649  4.236122e+05  1.483597e+10\nstd     56.411887  2.223151e+06  1.406496e+11\nmin      0.098100  1.000000e+02  2.213000e+06\n25%      3.270000  8.594000e+03  7.534800e+07\n50%     10.730000  4.079500e+04  4.581040e+08\n75%     36.000000  1.441520e+05  2.867000e+09\nmax    347.980000  2.688400e+07  2.772000e+12",
      "text/html": "<div>\n<style scoped>\n    .dataframe tbody tr th:only-of-type {\n        vertical-align: middle;\n    }\n\n    .dataframe tbody tr th {\n        vertical-align: top;\n    }\n\n    .dataframe thead th {\n        text-align: right;\n    }\n</style>\n<table border=\"1\" class=\"dataframe\">\n  <thead>\n    <tr style=\"text-align: right;\">\n      <th></th>\n      <th>Price</th>\n      <th>Volume</th>\n      <th>Market Cap</th>\n    </tr>\n  </thead>\n  <tbody>\n    <tr>\n      <th>count</th>\n      <td>497.000000</td>\n      <td>4.970000e+02</td>\n      <td>4.970000e+02</td>\n    </tr>\n    <tr>\n      <th>mean</th>\n      <td>34.102649</td>\n      <td>4.236122e+05</td>\n      <td>1.483597e+10</td>\n    </tr>\n    <tr>\n      <th>std</th>\n      <td>56.411887</td>\n      <td>2.223151e+06</td>\n      <td>1.406496e+11</td>\n    </tr>\n    <tr>\n      <th>min</th>\n      <td>0.098100</td>\n      <td>1.000000e+02</td>\n      <td>2.213000e+06</td>\n    </tr>\n    <tr>\n      <th>25%</th>\n      <td>3.270000</td>\n      <td>8.594000e+03</td>\n      <td>7.534800e+07</td>\n    </tr>\n    <tr>\n      <th>50%</th>\n      <td>10.730000</td>\n      <td>4.079500e+04</td>\n      <td>4.581040e+08</td>\n    </tr>\n    <tr>\n      <th>75%</th>\n      <td>36.000000</td>\n      <td>1.441520e+05</td>\n      <td>2.867000e+09</td>\n    </tr>\n    <tr>\n      <th>max</th>\n      <td>347.980000</td>\n      <td>2.688400e+07</td>\n      <td>2.772000e+12</td>\n    </tr>\n  </tbody>\n</table>\n</div>"
     },
     "execution_count": 36,
     "metadata": {},
     "output_type": "execute_result"
    }
   ],
   "source": [
    "data_for_all.describe()"
   ],
   "metadata": {
    "collapsed": false,
    "ExecuteTime": {
     "end_time": "2023-09-19T15:16:51.816984200Z",
     "start_time": "2023-09-19T15:16:51.722042500Z"
    }
   },
   "id": "497306db3de216c7"
  },
  {
   "cell_type": "code",
   "execution_count": 37,
   "outputs": [
    {
     "name": "stdout",
     "output_type": "stream",
     "text": [
      "<class 'pandas.core.frame.DataFrame'>\n",
      "RangeIndex: 497 entries, 0 to 496\n",
      "Data columns (total 11 columns):\n",
      " #   Column          Non-Null Count  Dtype  \n",
      "---  ------          --------------  -----  \n",
      " 0   Stock           497 non-null    object \n",
      " 1   Price           497 non-null    float64\n",
      " 2   Change          497 non-null    object \n",
      " 3   Volume          497 non-null    float64\n",
      " 4   Market Cap      497 non-null    float64\n",
      " 5   PE Ratio        497 non-null    object \n",
      " 6   EPS             497 non-null    object \n",
      " 7   Dividend        497 non-null    object \n",
      " 8   Yield           497 non-null    object \n",
      " 9   Sector          497 non-null    object \n",
      " 10  Recommendation  497 non-null    object \n",
      "dtypes: float64(3), object(8)\n",
      "memory usage: 42.8+ KB\n"
     ]
    }
   ],
   "source": [
    "data_for_all.info()"
   ],
   "metadata": {
    "collapsed": false,
    "ExecuteTime": {
     "end_time": "2023-09-19T15:16:51.817983200Z",
     "start_time": "2023-09-19T15:16:51.771182700Z"
    }
   },
   "id": "dbc18802e7711a4e"
  },
  {
   "cell_type": "code",
   "execution_count": 38,
   "outputs": [
    {
     "name": "stdout",
     "output_type": "stream",
     "text": [
      "                                    Price        Volume    Market Cap\n",
      "Statistic                                                            \n",
      "Mean                         3.410265e+01  4.236122e+05  1.483597e+10\n",
      "Variance                     3.182301e+03  4.942403e+12  1.978231e+22\n",
      "Covariance with Price        3.182301e+03  7.766469e+06  1.826205e+12\n",
      "Covariance with Volume       7.766469e+06  4.942403e+12  1.499156e+17\n",
      "Covariance with Market Cap   1.826205e+12  1.499156e+17  1.978231e+22\n",
      "Correlation with Price       1.000000e+00  6.192756e-02  2.301656e-01\n",
      "Correlation with Volume      6.192756e-02  1.000000e+00  4.794455e-01\n",
      "Correlation with Market Cap  2.301656e-01  4.794455e-01  1.000000e+00\n"
     ]
    }
   ],
   "source": [
    "# Select data\n",
    "selected_columns = ['Price', 'Volume', 'Market Cap']\n",
    "selected_data = data_for_all[selected_columns]\n",
    "\n",
    "# Calculate means, variances, covariances, and correlations\n",
    "means = selected_data.mean()\n",
    "variances = selected_data.var()\n",
    "cov_matrix = selected_data.cov()\n",
    "corr_matrix = selected_data.corr()\n",
    "\n",
    "# Create a summary table\n",
    "summary_table = pd.DataFrame({\n",
    "    'Statistic': ['Mean', 'Variance', 'Covariance with Price', 'Covariance with Volume', 'Covariance with Market Cap', 'Correlation with Price', 'Correlation with Volume', 'Correlation with Market Cap'],\n",
    "    'Price': [means['Price'], variances['Price'], cov_matrix.loc['Price', 'Price'], cov_matrix.loc['Volume', 'Price'], cov_matrix.loc['Market Cap', 'Price'], corr_matrix.loc['Price', 'Price'], corr_matrix.loc['Volume', 'Price'], corr_matrix.loc['Market Cap', 'Price']],\n",
    "    'Volume': [means['Volume'], variances['Volume'], cov_matrix.loc['Price', 'Volume'], cov_matrix.loc['Volume', 'Volume'], cov_matrix.loc['Market Cap', 'Volume'], corr_matrix.loc['Price', 'Volume'], corr_matrix.loc['Volume', 'Volume'], corr_matrix.loc['Market Cap', 'Volume']],\n",
    "    'Market Cap': [means['Market Cap'], variances['Market Cap'], cov_matrix.loc['Price', 'Market Cap'], cov_matrix.loc['Volume', 'Market Cap'], cov_matrix.loc['Market Cap', 'Market Cap'], corr_matrix.loc['Price', 'Market Cap'], corr_matrix.loc['Volume', 'Market Cap'], corr_matrix.loc['Market Cap', 'Market Cap']]\n",
    "})\n",
    "\n",
    "# Set the Statistic column as the index\n",
    "summary_table.set_index('Statistic', inplace=True)\n",
    "\n",
    "# Display the summary table\n",
    "print(summary_table)"
   ],
   "metadata": {
    "collapsed": false,
    "ExecuteTime": {
     "end_time": "2023-09-19T15:16:51.818487100Z",
     "start_time": "2023-09-19T15:16:51.783701300Z"
    }
   },
   "id": "2bb9b8e8e88a5e1f"
  },
  {
   "cell_type": "markdown",
   "source": [
    "add cmt here!!!"
   ],
   "metadata": {
    "collapsed": false
   },
   "id": "47bcecceb586a267"
  },
  {
   "cell_type": "markdown",
   "source": [
    "### ANALYZING THE RELATIONSHIP BETWEEN THE SECTORS AND THEIR STOCK VOLUMES"
   ],
   "metadata": {
    "collapsed": false
   },
   "id": "d262c62ea873912c"
  },
  {
   "cell_type": "code",
   "execution_count": 39,
   "outputs": [
    {
     "data": {
      "text/plain": "<Figure size 720x432 with 1 Axes>",
      "image/png": "[encoded data removed]"
     },
     "metadata": {
      "needs_background": "light"
     },
     "output_type": "display_data"
    }
   ],
   "source": [
    "# Scatterplot for Price vs. Market Cap\n",
    "plt.figure(figsize=(10, 6))\n",
    "plt.scatter(data_for_all['Price'], data_for_all['Market Cap'], alpha=0.5)\n",
    "plt.title('Scatterplot: Price vs. Market Cap', fontweight='bold')\n",
    "plt.xlabel('Price', fontweight='bold')\n",
    "plt.ylabel('Market Cap', fontweight='bold')\n",
    "\n",
    "# Add a grid for better visualization\n",
    "plt.grid(True)\n",
    "\n",
    "# Show the scatterplot\n",
    "plt.show()"
   ],
   "metadata": {
    "collapsed": false,
    "ExecuteTime": {
     "end_time": "2023-09-19T15:16:52.048483400Z",
     "start_time": "2023-09-19T15:16:51.803465400Z"
    }
   },
   "id": "5349027733e041cd"
  },
  {
   "cell_type": "code",
   "execution_count": 40,
   "outputs": [
    {
     "name": "stdout",
     "output_type": "stream",
     "text": [
      "Number of values in the 'Volume' column:\n",
      "- Lower than 100,000: 345\n",
      "- Between 100,000 and 1 million: 123\n",
      "- Between 1 million and 10 million: 24\n",
      "- Larger than 10 million: 5\n"
     ]
    }
   ],
   "source": [
    "# Count values lower than 100,000\n",
    "count_below_100k = len(data_for_all[data_for_all['Volume'] < 100000])\n",
    "\n",
    "# Count values between 100,000 and 1 million\n",
    "count_between_100k_and_1m = len(data_for_all[(data_for_all['Volume'] >= 100000) & (data_for_all['Volume'] < 1000000)])\n",
    "\n",
    "# Count values between 1 million and 10 million\n",
    "count_between_1m_and_10m = len(data_for_all[(data_for_all['Volume'] >= 1000000) & (data_for_all['Volume'] < 10000000)])\n",
    "\n",
    "# Count values larger than 10 million\n",
    "count_above_10m = len(data_for_all[data_for_all['Volume'] >= 10000000])\n",
    "\n",
    "# Print the counts\n",
    "print(\"Number of values in the 'Volume' column:\")\n",
    "print(f\"- Lower than 100,000: {count_below_100k}\")\n",
    "print(f\"- Between 100,000 and 1 million: {count_between_100k_and_1m}\")\n",
    "print(f\"- Between 1 million and 10 million: {count_between_1m_and_10m}\")\n",
    "print(f\"- Larger than 10 million: {count_above_10m}\")"
   ],
   "metadata": {
    "collapsed": false,
    "ExecuteTime": {
     "end_time": "2023-09-19T15:16:52.188874900Z",
     "start_time": "2023-09-19T15:16:52.060024Z"
    }
   },
   "id": "b8eb745762bdb0b7"
  },
  {
   "cell_type": "code",
   "execution_count": 41,
   "outputs": [
    {
     "data": {
      "text/plain": "<Figure size 1152x504 with 2 Axes>",
      "image/png": "[encoded data removed]"
     },
     "metadata": {},
     "output_type": "display_data"
    }
   ],
   "source": [
    "# Create a figure with two subplots\n",
    "fig, axs = plt.subplots(1, 2, figsize=(16, 7))\n",
    "\n",
    "# Set the background color for the entire figure\n",
    "fig.patch.set_facecolor('white')\n",
    "\n",
    "# -------------------------\n",
    "# Graph 1: Number of Stocks per Sector\n",
    "# -------------------------\n",
    "ax1 = axs[0]\n",
    "bars = ax1.bar(sector_counts['Sector'], sector_counts['Number of stocks available'])\n",
    "\n",
    "# Set the title and labels for Graph 1\n",
    "ax1.set_title('Number of Stocks Available in Each Sector', fontweight='extra bold')\n",
    "ax1.set_xlabel('Sector', fontweight='bold')\n",
    "ax1.set_ylabel('Number of Stocks Available', fontweight='bold')\n",
    "ax1.tick_params(axis='x', rotation=90)  # Rotate x-axis labels if needed\n",
    "\n",
    "# Annotate each bar with its respective value\n",
    "for bar in bars:\n",
    "    height = bar.get_height()\n",
    "    ax1.annotate(f'{height}',\n",
    "                 xy=(bar.get_x() + bar.get_width() / 2, height),\n",
    "                 xytext=(0, 3),  # 3 points vertical offset\n",
    "                 textcoords=\"offset points\",\n",
    "                 ha='center', va='bottom')\n",
    "\n",
    "# -------------------------"
   ],
   "metadata": {
    "collapsed": false,
    "ExecuteTime": {
     "end_time": "2023-09-19T15:16:53.545361100Z",
     "start_time": "2023-09-19T15:16:52.093167200Z"
    }
   },
   "id": "f972a1844ad047de"
  },
  {
   "cell_type": "code",
   "execution_count": 42,
   "outputs": [
    {
     "ename": "ValueError",
     "evalue": "could not convert string to float: 'Health Technology'",
     "output_type": "error",
     "traceback": [
      "\u001B[1;31m---------------------------------------------------------------------------\u001B[0m",
      "\u001B[1;31mValueError\u001B[0m                                Traceback (most recent call last)",
      "\u001B[1;32m<ipython-input-42-b2c667ef44c8>\u001B[0m in \u001B[0;36m<module>\u001B[1;34m\u001B[0m\n\u001B[0;32m     14\u001B[0m \u001B[1;33m\u001B[0m\u001B[0m\n\u001B[0;32m     15\u001B[0m \u001B[1;31m# Create the pie chart\u001B[0m\u001B[1;33m\u001B[0m\u001B[1;33m\u001B[0m\u001B[1;33m\u001B[0m\u001B[0m\n\u001B[1;32m---> 16\u001B[1;33m \u001B[0max2\u001B[0m\u001B[1;33m.\u001B[0m\u001B[0mpie\u001B[0m\u001B[1;33m(\u001B[0m\u001B[0msector_counts\u001B[0m\u001B[1;33m,\u001B[0m \u001B[0mexplode\u001B[0m\u001B[1;33m=\u001B[0m\u001B[1;33m(\u001B[0m\u001B[1;36m0.01\u001B[0m\u001B[1;33m,\u001B[0m \u001B[1;36m0.01\u001B[0m\u001B[1;33m,\u001B[0m \u001B[1;36m0.01\u001B[0m\u001B[1;33m)\u001B[0m\u001B[1;33m,\u001B[0m \u001B[0mlabels\u001B[0m\u001B[1;33m=\u001B[0m\u001B[0mlabels\u001B[0m\u001B[1;33m,\u001B[0m \u001B[0mcolors\u001B[0m\u001B[1;33m=\u001B[0m\u001B[0mcolors\u001B[0m\u001B[1;33m,\u001B[0m \u001B[0mautopct\u001B[0m\u001B[1;33m=\u001B[0m\u001B[1;34m'%1.1f%%'\u001B[0m\u001B[1;33m,\u001B[0m \u001B[0mstartangle\u001B[0m\u001B[1;33m=\u001B[0m\u001B[1;33m-\u001B[0m\u001B[1;36m23\u001B[0m\u001B[1;33m)\u001B[0m\u001B[1;33m\u001B[0m\u001B[1;33m\u001B[0m\u001B[0m\n\u001B[0m\u001B[0;32m     17\u001B[0m \u001B[1;33m\u001B[0m\u001B[0m\n\u001B[0;32m     18\u001B[0m \u001B[1;31m# Set the title for Graph 2\u001B[0m\u001B[1;33m\u001B[0m\u001B[1;33m\u001B[0m\u001B[1;33m\u001B[0m\u001B[0m\n",
      "\u001B[1;32m~\\anaconda3\\lib\\site-packages\\matplotlib\\__init__.py\u001B[0m in \u001B[0;36minner\u001B[1;34m(ax, data, *args, **kwargs)\u001B[0m\n\u001B[0;32m   1445\u001B[0m     \u001B[1;32mdef\u001B[0m \u001B[0minner\u001B[0m\u001B[1;33m(\u001B[0m\u001B[0max\u001B[0m\u001B[1;33m,\u001B[0m \u001B[1;33m*\u001B[0m\u001B[0margs\u001B[0m\u001B[1;33m,\u001B[0m \u001B[0mdata\u001B[0m\u001B[1;33m=\u001B[0m\u001B[1;32mNone\u001B[0m\u001B[1;33m,\u001B[0m \u001B[1;33m**\u001B[0m\u001B[0mkwargs\u001B[0m\u001B[1;33m)\u001B[0m\u001B[1;33m:\u001B[0m\u001B[1;33m\u001B[0m\u001B[1;33m\u001B[0m\u001B[0m\n\u001B[0;32m   1446\u001B[0m         \u001B[1;32mif\u001B[0m \u001B[0mdata\u001B[0m \u001B[1;32mis\u001B[0m \u001B[1;32mNone\u001B[0m\u001B[1;33m:\u001B[0m\u001B[1;33m\u001B[0m\u001B[1;33m\u001B[0m\u001B[0m\n\u001B[1;32m-> 1447\u001B[1;33m             \u001B[1;32mreturn\u001B[0m \u001B[0mfunc\u001B[0m\u001B[1;33m(\u001B[0m\u001B[0max\u001B[0m\u001B[1;33m,\u001B[0m \u001B[1;33m*\u001B[0m\u001B[0mmap\u001B[0m\u001B[1;33m(\u001B[0m\u001B[0msanitize_sequence\u001B[0m\u001B[1;33m,\u001B[0m \u001B[0margs\u001B[0m\u001B[1;33m)\u001B[0m\u001B[1;33m,\u001B[0m \u001B[1;33m**\u001B[0m\u001B[0mkwargs\u001B[0m\u001B[1;33m)\u001B[0m\u001B[1;33m\u001B[0m\u001B[1;33m\u001B[0m\u001B[0m\n\u001B[0m\u001B[0;32m   1448\u001B[0m \u001B[1;33m\u001B[0m\u001B[0m\n\u001B[0;32m   1449\u001B[0m         \u001B[0mbound\u001B[0m \u001B[1;33m=\u001B[0m \u001B[0mnew_sig\u001B[0m\u001B[1;33m.\u001B[0m\u001B[0mbind\u001B[0m\u001B[1;33m(\u001B[0m\u001B[0max\u001B[0m\u001B[1;33m,\u001B[0m \u001B[1;33m*\u001B[0m\u001B[0margs\u001B[0m\u001B[1;33m,\u001B[0m \u001B[1;33m**\u001B[0m\u001B[0mkwargs\u001B[0m\u001B[1;33m)\u001B[0m\u001B[1;33m\u001B[0m\u001B[1;33m\u001B[0m\u001B[0m\n",
      "\u001B[1;32m~\\anaconda3\\lib\\site-packages\\matplotlib\\axes\\_axes.py\u001B[0m in \u001B[0;36mpie\u001B[1;34m(self, x, explode, labels, colors, autopct, pctdistance, shadow, labeldistance, startangle, radius, counterclock, wedgeprops, textprops, center, frame, rotatelabels, normalize)\u001B[0m\n\u001B[0;32m   2993\u001B[0m         \u001B[1;31m# The use of float32 is \"historical\", but can't be changed without\u001B[0m\u001B[1;33m\u001B[0m\u001B[1;33m\u001B[0m\u001B[1;33m\u001B[0m\u001B[0m\n\u001B[0;32m   2994\u001B[0m         \u001B[1;31m# regenerating the test baselines.\u001B[0m\u001B[1;33m\u001B[0m\u001B[1;33m\u001B[0m\u001B[1;33m\u001B[0m\u001B[0m\n\u001B[1;32m-> 2995\u001B[1;33m         \u001B[0mx\u001B[0m \u001B[1;33m=\u001B[0m \u001B[0mnp\u001B[0m\u001B[1;33m.\u001B[0m\u001B[0masarray\u001B[0m\u001B[1;33m(\u001B[0m\u001B[0mx\u001B[0m\u001B[1;33m,\u001B[0m \u001B[0mnp\u001B[0m\u001B[1;33m.\u001B[0m\u001B[0mfloat32\u001B[0m\u001B[1;33m)\u001B[0m\u001B[1;33m\u001B[0m\u001B[1;33m\u001B[0m\u001B[0m\n\u001B[0m\u001B[0;32m   2996\u001B[0m         \u001B[1;32mif\u001B[0m \u001B[0mx\u001B[0m\u001B[1;33m.\u001B[0m\u001B[0mndim\u001B[0m \u001B[1;33m>\u001B[0m \u001B[1;36m1\u001B[0m\u001B[1;33m:\u001B[0m\u001B[1;33m\u001B[0m\u001B[1;33m\u001B[0m\u001B[0m\n\u001B[0;32m   2997\u001B[0m             \u001B[1;32mraise\u001B[0m \u001B[0mValueError\u001B[0m\u001B[1;33m(\u001B[0m\u001B[1;34m\"x must be 1D\"\u001B[0m\u001B[1;33m)\u001B[0m\u001B[1;33m\u001B[0m\u001B[1;33m\u001B[0m\u001B[0m\n",
      "\u001B[1;32m~\\anaconda3\\lib\\site-packages\\numpy\\core\\_asarray.py\u001B[0m in \u001B[0;36masarray\u001B[1;34m(a, dtype, order, like)\u001B[0m\n\u001B[0;32m    100\u001B[0m         \u001B[1;32mreturn\u001B[0m \u001B[0m_asarray_with_like\u001B[0m\u001B[1;33m(\u001B[0m\u001B[0ma\u001B[0m\u001B[1;33m,\u001B[0m \u001B[0mdtype\u001B[0m\u001B[1;33m=\u001B[0m\u001B[0mdtype\u001B[0m\u001B[1;33m,\u001B[0m \u001B[0morder\u001B[0m\u001B[1;33m=\u001B[0m\u001B[0morder\u001B[0m\u001B[1;33m,\u001B[0m \u001B[0mlike\u001B[0m\u001B[1;33m=\u001B[0m\u001B[0mlike\u001B[0m\u001B[1;33m)\u001B[0m\u001B[1;33m\u001B[0m\u001B[1;33m\u001B[0m\u001B[0m\n\u001B[0;32m    101\u001B[0m \u001B[1;33m\u001B[0m\u001B[0m\n\u001B[1;32m--> 102\u001B[1;33m     \u001B[1;32mreturn\u001B[0m \u001B[0marray\u001B[0m\u001B[1;33m(\u001B[0m\u001B[0ma\u001B[0m\u001B[1;33m,\u001B[0m \u001B[0mdtype\u001B[0m\u001B[1;33m,\u001B[0m \u001B[0mcopy\u001B[0m\u001B[1;33m=\u001B[0m\u001B[1;32mFalse\u001B[0m\u001B[1;33m,\u001B[0m \u001B[0morder\u001B[0m\u001B[1;33m=\u001B[0m\u001B[0morder\u001B[0m\u001B[1;33m)\u001B[0m\u001B[1;33m\u001B[0m\u001B[1;33m\u001B[0m\u001B[0m\n\u001B[0m\u001B[0;32m    103\u001B[0m \u001B[1;33m\u001B[0m\u001B[0m\n\u001B[0;32m    104\u001B[0m \u001B[1;33m\u001B[0m\u001B[0m\n",
      "\u001B[1;32m~\\anaconda3\\lib\\site-packages\\pandas\\core\\generic.py\u001B[0m in \u001B[0;36m__array__\u001B[1;34m(self, dtype)\u001B[0m\n\u001B[0;32m   1897\u001B[0m \u001B[1;33m\u001B[0m\u001B[0m\n\u001B[0;32m   1898\u001B[0m     \u001B[1;32mdef\u001B[0m \u001B[0m__array__\u001B[0m\u001B[1;33m(\u001B[0m\u001B[0mself\u001B[0m\u001B[1;33m,\u001B[0m \u001B[0mdtype\u001B[0m\u001B[1;33m=\u001B[0m\u001B[1;32mNone\u001B[0m\u001B[1;33m)\u001B[0m \u001B[1;33m->\u001B[0m \u001B[0mnp\u001B[0m\u001B[1;33m.\u001B[0m\u001B[0mndarray\u001B[0m\u001B[1;33m:\u001B[0m\u001B[1;33m\u001B[0m\u001B[1;33m\u001B[0m\u001B[0m\n\u001B[1;32m-> 1899\u001B[1;33m         \u001B[1;32mreturn\u001B[0m \u001B[0mnp\u001B[0m\u001B[1;33m.\u001B[0m\u001B[0masarray\u001B[0m\u001B[1;33m(\u001B[0m\u001B[0mself\u001B[0m\u001B[1;33m.\u001B[0m\u001B[0m_values\u001B[0m\u001B[1;33m,\u001B[0m \u001B[0mdtype\u001B[0m\u001B[1;33m=\u001B[0m\u001B[0mdtype\u001B[0m\u001B[1;33m)\u001B[0m\u001B[1;33m\u001B[0m\u001B[1;33m\u001B[0m\u001B[0m\n\u001B[0m\u001B[0;32m   1900\u001B[0m \u001B[1;33m\u001B[0m\u001B[0m\n\u001B[0;32m   1901\u001B[0m     def __array_wrap__(\n",
      "\u001B[1;32m~\\anaconda3\\lib\\site-packages\\numpy\\core\\_asarray.py\u001B[0m in \u001B[0;36masarray\u001B[1;34m(a, dtype, order, like)\u001B[0m\n\u001B[0;32m    100\u001B[0m         \u001B[1;32mreturn\u001B[0m \u001B[0m_asarray_with_like\u001B[0m\u001B[1;33m(\u001B[0m\u001B[0ma\u001B[0m\u001B[1;33m,\u001B[0m \u001B[0mdtype\u001B[0m\u001B[1;33m=\u001B[0m\u001B[0mdtype\u001B[0m\u001B[1;33m,\u001B[0m \u001B[0morder\u001B[0m\u001B[1;33m=\u001B[0m\u001B[0morder\u001B[0m\u001B[1;33m,\u001B[0m \u001B[0mlike\u001B[0m\u001B[1;33m=\u001B[0m\u001B[0mlike\u001B[0m\u001B[1;33m)\u001B[0m\u001B[1;33m\u001B[0m\u001B[1;33m\u001B[0m\u001B[0m\n\u001B[0;32m    101\u001B[0m \u001B[1;33m\u001B[0m\u001B[0m\n\u001B[1;32m--> 102\u001B[1;33m     \u001B[1;32mreturn\u001B[0m \u001B[0marray\u001B[0m\u001B[1;33m(\u001B[0m\u001B[0ma\u001B[0m\u001B[1;33m,\u001B[0m \u001B[0mdtype\u001B[0m\u001B[1;33m,\u001B[0m \u001B[0mcopy\u001B[0m\u001B[1;33m=\u001B[0m\u001B[1;32mFalse\u001B[0m\u001B[1;33m,\u001B[0m \u001B[0morder\u001B[0m\u001B[1;33m=\u001B[0m\u001B[0morder\u001B[0m\u001B[1;33m)\u001B[0m\u001B[1;33m\u001B[0m\u001B[1;33m\u001B[0m\u001B[0m\n\u001B[0m\u001B[0;32m    103\u001B[0m \u001B[1;33m\u001B[0m\u001B[0m\n\u001B[0;32m    104\u001B[0m \u001B[1;33m\u001B[0m\u001B[0m\n",
      "\u001B[1;31mValueError\u001B[0m: could not convert string to float: 'Health Technology'"
     ]
    }
   ],
   "source": [
    "#Graph 2: Distribution of Stock Volumes\n",
    "# -------------------------\n",
    "ax2 = axs[1]\n",
    "\n",
    "# Labels for the pie chart\n",
    "labels = [\n",
    "    'Lower than 100,000',\n",
    "    'Between 100,000 and 1 million',\n",
    "    'Between 1 million and 10 million'\n",
    "]\n",
    "\n",
    "# Colors for the pie chart slices\n",
    "colors = ['gold', 'lightcoral', 'lightskyblue']\n",
    "\n",
    "# Create the pie chart\n",
    "ax2.pie(sector_counts, explode=(0.01, 0.01, 0.01), labels=labels, colors=colors, autopct='%1.1f%%', startangle=-23)\n",
    "\n",
    "# Set the title for Graph 2\n",
    "ax2.set_title(\"Distribution of Stock Volumes\", fontweight='extra bold')\n",
    "\n",
    "# Equal aspect ratio ensures that pie is drawn as a circle.\n",
    "ax2.axis('equal')\n",
    "\n",
    "# Adjust the layout to prevent overlap\n",
    "plt.tight_layout()\n",
    "\n",
    "# Show the figure with subplots\n",
    "plt.show()"
   ],
   "metadata": {
    "collapsed": false,
    "ExecuteTime": {
     "end_time": "2023-09-19T15:16:53.713011300Z",
     "start_time": "2023-09-19T15:16:53.554881900Z"
    }
   },
   "id": "c0706961802f9d6e"
  },
  {
   "cell_type": "code",
   "execution_count": null,
   "outputs": [],
   "source": [
    "# Lấy dữ liệu từ 5 cột tiếp theo\n",
    "columns_to_plot = [\"Change\", \"Volume\", \"Market Cap\", \"PE Ratio\", \"EPS\"]\n",
    "\n",
    "# Vẽ biểu đồ cho từng cột\n",
    "plt.figure(figsize=(12, 8))  # Kích thước biểu đồ\n",
    "\n",
    "for column in columns_to_plot:\n",
    "    plt.plot(data_for_all[column], marker='o', linestyle='-', label=column)\n",
    "\n",
    "plt.title('Biểu đồ các cột')  # Tiêu đề biểu đồ\n",
    "plt.xlabel('Số lần load dữ liệu')  # Nhãn x cho trục hoành\n",
    "plt.grid(True)  # Hiển thị lưới\n",
    "plt.legend()  # Hiển thị chú thích\n",
    "\n",
    "# Hiển thị biểu đồ\n",
    "plt.show()"
   ],
   "metadata": {
    "collapsed": false,
    "ExecuteTime": {
     "start_time": "2023-09-19T15:16:53.622092600Z"
    }
   },
   "id": "787b0d290a7c86fc"
  },
  {
   "cell_type": "code",
   "execution_count": null,
   "outputs": [],
   "source": [
    "\n",
    "# Tạo biểu đồ pie cho dữ liệu \"Volume\"\n",
    "plt.figure(figsize=(8, 8))\n",
    "plt.pie(volume_counts, labels=labels, autopct='%1.1f%%', startangle=140)\n",
    "plt.title('Phân phối Volume của các cổ phiếu')\n",
    "plt.axis('equal')  # Để biểu đồ tròn\n",
    "\n",
    "plt.show()\n",
    "\n",
    "# Tạo biểu đồ pie cho dữ liệu \"PE Ratio\"\n",
    "plt.figure(figsize=(8, 8))\n",
    "plt.pie(pe_ratio_data, labels=stock_names, autopct='%1.1f%%', startangle=140)\n",
    "plt.title('Phân phối PE Ratio của các cổ phiếu')\n",
    "plt.axis('equal')  # Để biểu đồ tròn\n",
    "\n",
    "plt.show()"
   ],
   "metadata": {
    "collapsed": false,
    "ExecuteTime": {
     "start_time": "2023-09-19T15:16:53.625092400Z"
    }
   },
   "id": "f354a37176303816"
  },
  {
   "cell_type": "code",
   "execution_count": 43,
   "outputs": [],
   "source": [
    "eps_series = data_for_all['EPS']"
   ],
   "metadata": {
    "collapsed": false,
    "ExecuteTime": {
     "end_time": "2023-09-19T15:17:45.202707200Z",
     "start_time": "2023-09-19T15:17:45.183037200Z"
    }
   },
   "id": "5849a5dd496783b4"
  },
  {
   "cell_type": "code",
   "execution_count": 44,
   "outputs": [
    {
     "name": "stdout",
     "output_type": "stream",
     "text": [
      "0        3.81\n",
      "1       −8.15\n",
      "2       −0.09\n",
      "3       −0.03\n",
      "4           —\n",
      "        ...  \n",
      "492      0.12\n",
      "493     11.62\n",
      "494     −5.12\n",
      "495    −60.38\n",
      "496     −4.52\n",
      "Name: EPS, Length: 497, dtype: object\n"
     ]
    }
   ],
   "source": [
    "print(eps_series)"
   ],
   "metadata": {
    "collapsed": false,
    "ExecuteTime": {
     "end_time": "2023-09-19T15:18:07.865164600Z",
     "start_time": "2023-09-19T15:18:07.819046300Z"
    }
   },
   "id": "d4e9bbf1afdf95bc"
  }
 ],
 "metadata": {
  "kernelspec": {
   "display_name": "Python 3 (ipykernel)",
   "language": "python",
   "name": "python3"
  },
  "language_info": {
   "codemirror_mode": {
    "name": "ipython",
    "version": 3
   },
   "file_extension": ".py",
   "mimetype": "text/x-python",
   "name": "python",
   "nbconvert_exporter": "python",
   "pygments_lexer": "ipython3",
   "version": "3.9.13"
  }
 },
 "nbformat": 4,
 "nbformat_minor": 5
}

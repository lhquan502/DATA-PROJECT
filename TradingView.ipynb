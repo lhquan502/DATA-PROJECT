{
 "cells": [
  {
   "cell_type": "code",
   "execution_count": 73,
   "outputs": [],
   "source": [
    "from selenium import webdriver\n",
    "from selenium.webdriver.common.by import By\n",
    "from selenium.webdriver.support.ui import WebDriverWait\n",
    "from selenium.webdriver.support import expected_conditions as EC\n",
    "from bs4 import BeautifulSoup\n",
    "import pandas as pd\n",
    "\n",
    "# Khởi tạo trình duyệt Chrome\n",
    "driver = webdriver.Chrome()\n",
    "\n",
    "# Mở trang web Tradingview\n",
    "driver.get(\"https://www.tradingview.com/markets/stocks-usa/market-movers-all-stocks/\")\n",
    "\n",
    "# Số lần nhấn nút \"Load More\" tối đa (hoặc bạn có thể sử dụng điều kiện khác)\n",
    "max_loads = 5\n",
    "\n",
    "loads = 0\n",
    "data_rows = []\n",
    "\n",
    "while loads < max_loads:\n",
    "    try:\n",
    "        load_more_button = WebDriverWait(driver, 10).until(EC.element_to_be_clickable((By.CSS_SELECTOR, \".loadButton-SFwfC2e0\")))\n",
    "        load_more_button.click()\n",
    "        loads += 1\n",
    "    except:\n",
    "        break\n",
    "\n",
    "# Chờ cho dữ liệu được tải đầy đủ\n",
    "WebDriverWait(driver, 10).until(EC.invisibility_of_element_located((By.CSS_SELECTOR, \".loadingContent-2CAlGV8F\")))\n",
    "\n",
    "# Tạo biến soup1 từ trang web đã tải\n",
    "soup1 = BeautifulSoup(driver.page_source, 'html.parser')\n",
    "\n",
    "# Trích xuất dữ liệu và thêm vào danh sách dòng dữ liệu\n",
    "row_data = soup1.find_all('tr', class_='row-RdUXZpkv')\n",
    "for row in row_data:\n",
    "    row_data = row.find_all('td')\n",
    "    individual_row = [data.text.strip() for data in row_data]\n",
    "    if len(individual_row) == 11:  # Kiểm tra xem có đủ dữ liệu không\n",
    "        data_rows.append(individual_row)\n",
    "\n",
    "# Tạo DataFrame từ danh sách dòng dữ liệu\n",
    "data_for_all = pd.DataFrame(data_rows, columns=[\"Stock\", \"Price\", \"Change\", \"Volume\", \"Market Cap\", \"PE Ratio\", \"EPS\", \"Dividend\", \"Yield\", \"Sector\", \"Recommendation\"])\n",
    "\n",
    "# Đóng trình duyệt sau khi hoàn thành\n",
    "driver.quit()"
   ],
   "metadata": {
    "collapsed": false,
    "ExecuteTime": {
     "end_time": "2023-09-18T06:28:25.047355900Z",
     "start_time": "2023-09-18T06:28:07.621704200Z"
    }
   },
   "id": "88c27f41501ec2a6"
  },
  {
   "cell_type": "code",
   "execution_count": 74,
   "outputs": [
    {
     "data": {
      "text/plain": "                                           Stock       Price  Change  \\\n0                   AAgilent Technologies, Inc.D  115.91 USD   0.90%   \n1                           AAAlcoa CorporationD   28.85 USD  −4.44%   \n2               AACAres Acquisition CorporationD   10.71 USD  −0.09%   \n3                AACIArmada Acquisition Corp. ID   10.75 USD   0.00%   \n4           AACTAres Acquisition Corporation IID   10.25 USD   0.10%   \n..                                           ...         ...     ...   \n495  AYAtlantica Sustainable Infrastructure plcD   22.88 USD  −0.78%   \n496                      AYIAcuity Brands, Inc.D  159.59 USD  −0.48%   \n497                              AYROAYRO, Inc.D  0.4854 USD  −0.53%   \n498                    AYTUAytu BioPharma, Inc.D    1.62 USD   5.88%   \n499                            AYXAlteryx, Inc.D   34.85 USD  −2.13%   \n\n       Volume    Market Cap PE Ratio         EPS  Dividend  Yield  \\\n0       6.89M   33.914B USD    30.40    3.81 USD   −13.21%  0.76%   \n1      8.716M    5.148B USD        —   −8.15 USD  −259.86%  1.39%   \n2     19.471K  756.172M USD        —   −0.09 USD  −134.01%  0.00%   \n3         211   99.097M USD        —   −0.03 USD    86.19%  0.00%   \n4      14.04K    512.5M USD        —           —         —  0.00%   \n..        ...           ...      ...         ...       ...    ...   \n495  461.448K    2.655B USD   187.54    0.12 USD         —  7.78%   \n496  708.466K    4.978B USD    13.73   11.62 USD    11.81%  0.33%   \n497  672.097K   18.315M USD        —   −0.64 USD    22.59%  0.00%   \n498   33.445K    6.124M USD        —  −60.38 USD    26.73%  0.00%   \n499    2.289M    2.476B USD        —   −4.52 USD     0.50%  0.00%   \n\n                     Sector Recommendation  \n0         Health Technology            Buy  \n1       Non-Energy Minerals        Neutral  \n2                   Finance              —  \n3                   Finance              —  \n4                   Finance              —  \n..                      ...            ...  \n495               Utilities            Buy  \n496  Producer Manufacturing            Buy  \n497  Producer Manufacturing     Strong Buy  \n498       Health Technology     Strong Buy  \n499     Technology Services            Buy  \n\n[500 rows x 11 columns]",
      "text/html": "<div>\n<style scoped>\n    .dataframe tbody tr th:only-of-type {\n        vertical-align: middle;\n    }\n\n    .dataframe tbody tr th {\n        vertical-align: top;\n    }\n\n    .dataframe thead th {\n        text-align: right;\n    }\n</style>\n<table border=\"1\" class=\"dataframe\">\n  <thead>\n    <tr style=\"text-align: right;\">\n      <th></th>\n      <th>Stock</th>\n      <th>Price</th>\n      <th>Change</th>\n      <th>Volume</th>\n      <th>Market Cap</th>\n      <th>PE Ratio</th>\n      <th>EPS</th>\n      <th>Dividend</th>\n      <th>Yield</th>\n      <th>Sector</th>\n      <th>Recommendation</th>\n    </tr>\n  </thead>\n  <tbody>\n    <tr>\n      <th>0</th>\n      <td>AAgilent Technologies, Inc.D</td>\n      <td>115.91 USD</td>\n      <td>0.90%</td>\n      <td>6.89M</td>\n      <td>33.914B USD</td>\n      <td>30.40</td>\n      <td>3.81 USD</td>\n      <td>−13.21%</td>\n      <td>0.76%</td>\n      <td>Health Technology</td>\n      <td>Buy</td>\n    </tr>\n    <tr>\n      <th>1</th>\n      <td>AAAlcoa CorporationD</td>\n      <td>28.85 USD</td>\n      <td>−4.44%</td>\n      <td>8.716M</td>\n      <td>5.148B USD</td>\n      <td>—</td>\n      <td>−8.15 USD</td>\n      <td>−259.86%</td>\n      <td>1.39%</td>\n      <td>Non-Energy Minerals</td>\n      <td>Neutral</td>\n    </tr>\n    <tr>\n      <th>2</th>\n      <td>AACAres Acquisition CorporationD</td>\n      <td>10.71 USD</td>\n      <td>−0.09%</td>\n      <td>19.471K</td>\n      <td>756.172M USD</td>\n      <td>—</td>\n      <td>−0.09 USD</td>\n      <td>−134.01%</td>\n      <td>0.00%</td>\n      <td>Finance</td>\n      <td>—</td>\n    </tr>\n    <tr>\n      <th>3</th>\n      <td>AACIArmada Acquisition Corp. ID</td>\n      <td>10.75 USD</td>\n      <td>0.00%</td>\n      <td>211</td>\n      <td>99.097M USD</td>\n      <td>—</td>\n      <td>−0.03 USD</td>\n      <td>86.19%</td>\n      <td>0.00%</td>\n      <td>Finance</td>\n      <td>—</td>\n    </tr>\n    <tr>\n      <th>4</th>\n      <td>AACTAres Acquisition Corporation IID</td>\n      <td>10.25 USD</td>\n      <td>0.10%</td>\n      <td>14.04K</td>\n      <td>512.5M USD</td>\n      <td>—</td>\n      <td>—</td>\n      <td>—</td>\n      <td>0.00%</td>\n      <td>Finance</td>\n      <td>—</td>\n    </tr>\n    <tr>\n      <th>...</th>\n      <td>...</td>\n      <td>...</td>\n      <td>...</td>\n      <td>...</td>\n      <td>...</td>\n      <td>...</td>\n      <td>...</td>\n      <td>...</td>\n      <td>...</td>\n      <td>...</td>\n      <td>...</td>\n    </tr>\n    <tr>\n      <th>495</th>\n      <td>AYAtlantica Sustainable Infrastructure plcD</td>\n      <td>22.88 USD</td>\n      <td>−0.78%</td>\n      <td>461.448K</td>\n      <td>2.655B USD</td>\n      <td>187.54</td>\n      <td>0.12 USD</td>\n      <td>—</td>\n      <td>7.78%</td>\n      <td>Utilities</td>\n      <td>Buy</td>\n    </tr>\n    <tr>\n      <th>496</th>\n      <td>AYIAcuity Brands, Inc.D</td>\n      <td>159.59 USD</td>\n      <td>−0.48%</td>\n      <td>708.466K</td>\n      <td>4.978B USD</td>\n      <td>13.73</td>\n      <td>11.62 USD</td>\n      <td>11.81%</td>\n      <td>0.33%</td>\n      <td>Producer Manufacturing</td>\n      <td>Buy</td>\n    </tr>\n    <tr>\n      <th>497</th>\n      <td>AYROAYRO, Inc.D</td>\n      <td>0.4854 USD</td>\n      <td>−0.53%</td>\n      <td>672.097K</td>\n      <td>18.315M USD</td>\n      <td>—</td>\n      <td>−0.64 USD</td>\n      <td>22.59%</td>\n      <td>0.00%</td>\n      <td>Producer Manufacturing</td>\n      <td>Strong Buy</td>\n    </tr>\n    <tr>\n      <th>498</th>\n      <td>AYTUAytu BioPharma, Inc.D</td>\n      <td>1.62 USD</td>\n      <td>5.88%</td>\n      <td>33.445K</td>\n      <td>6.124M USD</td>\n      <td>—</td>\n      <td>−60.38 USD</td>\n      <td>26.73%</td>\n      <td>0.00%</td>\n      <td>Health Technology</td>\n      <td>Strong Buy</td>\n    </tr>\n    <tr>\n      <th>499</th>\n      <td>AYXAlteryx, Inc.D</td>\n      <td>34.85 USD</td>\n      <td>−2.13%</td>\n      <td>2.289M</td>\n      <td>2.476B USD</td>\n      <td>—</td>\n      <td>−4.52 USD</td>\n      <td>0.50%</td>\n      <td>0.00%</td>\n      <td>Technology Services</td>\n      <td>Buy</td>\n    </tr>\n  </tbody>\n</table>\n<p>500 rows × 11 columns</p>\n</div>"
     },
     "execution_count": 74,
     "metadata": {},
     "output_type": "execute_result"
    }
   ],
   "source": [
    "data_for_all"
   ],
   "metadata": {
    "collapsed": false,
    "ExecuteTime": {
     "end_time": "2023-09-18T06:28:28.824656900Z",
     "start_time": "2023-09-18T06:28:28.815678500Z"
    }
   },
   "id": "78db186d142512f"
  },
  {
   "cell_type": "code",
   "execution_count": 75,
   "outputs": [
    {
     "name": "stdout",
     "output_type": "stream",
     "text": [
      "                                           Stock   Price  Change    Volume  \\\n",
      "0                   AAgilent Technologies, Inc.D  115.91   0.90%     6.89M   \n",
      "1                           AAAlcoa CorporationD   28.85  −4.44%    8.716M   \n",
      "2               AACAres Acquisition CorporationD   10.71  −0.09%   19.471K   \n",
      "3                AACIArmada Acquisition Corp. ID   10.75   0.00%       211   \n",
      "4           AACTAres Acquisition Corporation IID   10.25   0.10%    14.04K   \n",
      "..                                           ...     ...     ...       ...   \n",
      "495  AYAtlantica Sustainable Infrastructure plcD   22.88  −0.78%  461.448K   \n",
      "496                      AYIAcuity Brands, Inc.D  159.59  −0.48%  708.466K   \n",
      "497                              AYROAYRO, Inc.D  0.4854  −0.53%  672.097K   \n",
      "498                    AYTUAytu BioPharma, Inc.D    1.62   5.88%   33.445K   \n",
      "499                            AYXAlteryx, Inc.D   34.85  −2.13%    2.289M   \n",
      "\n",
      "    Market Cap PE Ratio     EPS  Dividend  Yield                  Sector  \\\n",
      "0      33.914B    30.40    3.81   −13.21%  0.76%       Health Technology   \n",
      "1       5.148B        —   −8.15  −259.86%  1.39%     Non-Energy Minerals   \n",
      "2     756.172M        —   −0.09  −134.01%  0.00%                 Finance   \n",
      "3      99.097M        —   −0.03    86.19%  0.00%                 Finance   \n",
      "4       512.5M        —       —         —  0.00%                 Finance   \n",
      "..         ...      ...     ...       ...    ...                     ...   \n",
      "495     2.655B   187.54    0.12         —  7.78%               Utilities   \n",
      "496     4.978B    13.73   11.62    11.81%  0.33%  Producer Manufacturing   \n",
      "497    18.315M        —   −0.64    22.59%  0.00%  Producer Manufacturing   \n",
      "498     6.124M        —  −60.38    26.73%  0.00%       Health Technology   \n",
      "499     2.476B        —   −4.52     0.50%  0.00%     Technology Services   \n",
      "\n",
      "    Recommendation  \n",
      "0              Buy  \n",
      "1          Neutral  \n",
      "2                —  \n",
      "3                —  \n",
      "4                —  \n",
      "..             ...  \n",
      "495            Buy  \n",
      "496            Buy  \n",
      "497     Strong Buy  \n",
      "498     Strong Buy  \n",
      "499            Buy  \n",
      "\n",
      "[500 rows x 11 columns]\n"
     ]
    }
   ],
   "source": [
    "# Danh sách các cột chứa ký tự 'USD'\n",
    "usd_columns = [\"Price\", \"Market Cap\", \"EPS\"]\n",
    "\n",
    "# Chuyển đổi cột sang kiểu chuỗi và sau đó loại bỏ chữ 'USD'\n",
    "for column in usd_columns:\n",
    "    data_for_all[column] = data_for_all[column].astype(str).str.replace(' USD', '')\n",
    "\n",
    "# In ra DataFrame sau khi đã loại bỏ 'USD'\n",
    "print(data_for_all)"
   ],
   "metadata": {
    "collapsed": false,
    "ExecuteTime": {
     "end_time": "2023-09-18T06:28:29.993713800Z",
     "start_time": "2023-09-18T06:28:29.978706100Z"
    }
   },
   "id": "a30b407ff5f79442"
  },
  {
   "cell_type": "code",
   "execution_count": 76,
   "outputs": [],
   "source": [
    "data_for_all.fillna(0, inplace=True)"
   ],
   "metadata": {
    "collapsed": false,
    "ExecuteTime": {
     "end_time": "2023-09-18T06:28:34.244184Z",
     "start_time": "2023-09-18T06:28:34.235216600Z"
    }
   },
   "id": "e2e658703b126abf"
  },
  {
   "cell_type": "code",
   "execution_count": 77,
   "outputs": [],
   "source": [
    "# Hàm để quy đổi đơn vị\n",
    "def convert_volume(value):\n",
    "    if 'M' in value:\n",
    "        return float(value.replace('M', '')) * 1e6\n",
    "    elif 'B' in value:\n",
    "        return float(value.replace('B', '')) * 1e9\n",
    "    elif 'K' in value:\n",
    "        return float(value.replace('K', '')) * 1e3\n",
    "    else:\n",
    "        return float(value)\n",
    "\n",
    "# Áp dụng hàm cho cột \"Volume\"\n",
    "data_for_all['Volume'] = data_for_all['Volume'].apply(convert_volume)"
   ],
   "metadata": {
    "collapsed": false,
    "ExecuteTime": {
     "end_time": "2023-09-18T06:28:35.299931100Z",
     "start_time": "2023-09-18T06:28:35.285963600Z"
    }
   },
   "id": "ecc016136ad24944"
  },
  {
   "cell_type": "code",
   "execution_count": 78,
   "outputs": [],
   "source": [
    "def convert_market_cap(value):\n",
    "    if 'T' in value:\n",
    "        return float(value.replace('T', '')) * 1e12  # Chuyển đổi tỷ thành 10^12\n",
    "    elif 'B' in value:\n",
    "        return float(value.replace('B', '')) * 1e9   # Chuyển đổi tỉ thành 10^9\n",
    "    elif 'M' in value:\n",
    "        return float(value.replace('M', '')) * 1e6   # Chuyển đổi triệu thành 10^6\n",
    "    elif 'K' in value:\n",
    "        return float(value.replace('K', '')) * 1e3   # Chuyển đổi ngàn thành 10^3\n",
    "    else:\n",
    "        return float(value)\n",
    "\n",
    "# Áp dụng hàm cho cột \"Market Cap\"\n",
    "data_for_all['Market Cap'] = data_for_all['Market Cap'].apply(convert_market_cap)"
   ],
   "metadata": {
    "collapsed": false,
    "ExecuteTime": {
     "end_time": "2023-09-18T06:28:36.274756600Z",
     "start_time": "2023-09-18T06:28:36.260793200Z"
    }
   },
   "id": "650f35d094782fe1"
  },
  {
   "cell_type": "code",
   "execution_count": 79,
   "outputs": [
    {
     "data": {
      "text/plain": "                                           Stock   Price  Change     Volume  \\\n0                   AAgilent Technologies, Inc.D  115.91   0.90%  6890000.0   \n1                           AAAlcoa CorporationD   28.85  −4.44%  8716000.0   \n2               AACAres Acquisition CorporationD   10.71  −0.09%    19471.0   \n3                AACIArmada Acquisition Corp. ID   10.75   0.00%      211.0   \n4           AACTAres Acquisition Corporation IID   10.25   0.10%    14040.0   \n..                                           ...     ...     ...        ...   \n495  AYAtlantica Sustainable Infrastructure plcD   22.88  −0.78%   461448.0   \n496                      AYIAcuity Brands, Inc.D  159.59  −0.48%   708466.0   \n497                              AYROAYRO, Inc.D  0.4854  −0.53%   672097.0   \n498                    AYTUAytu BioPharma, Inc.D    1.62   5.88%    33445.0   \n499                            AYXAlteryx, Inc.D   34.85  −2.13%  2289000.0   \n\n       Market Cap PE Ratio     EPS  Dividend  Yield                  Sector  \\\n0    3.391400e+10    30.40    3.81   −13.21%  0.76%       Health Technology   \n1    5.148000e+09        —   −8.15  −259.86%  1.39%     Non-Energy Minerals   \n2    7.561720e+08        —   −0.09  −134.01%  0.00%                 Finance   \n3    9.909700e+07        —   −0.03    86.19%  0.00%                 Finance   \n4    5.125000e+08        —       —         —  0.00%                 Finance   \n..            ...      ...     ...       ...    ...                     ...   \n495  2.655000e+09   187.54    0.12         —  7.78%               Utilities   \n496  4.978000e+09    13.73   11.62    11.81%  0.33%  Producer Manufacturing   \n497  1.831500e+07        —   −0.64    22.59%  0.00%  Producer Manufacturing   \n498  6.124000e+06        —  −60.38    26.73%  0.00%       Health Technology   \n499  2.476000e+09        —   −4.52     0.50%  0.00%     Technology Services   \n\n    Recommendation  \n0              Buy  \n1          Neutral  \n2                —  \n3                —  \n4                —  \n..             ...  \n495            Buy  \n496            Buy  \n497     Strong Buy  \n498     Strong Buy  \n499            Buy  \n\n[500 rows x 11 columns]",
      "text/html": "<div>\n<style scoped>\n    .dataframe tbody tr th:only-of-type {\n        vertical-align: middle;\n    }\n\n    .dataframe tbody tr th {\n        vertical-align: top;\n    }\n\n    .dataframe thead th {\n        text-align: right;\n    }\n</style>\n<table border=\"1\" class=\"dataframe\">\n  <thead>\n    <tr style=\"text-align: right;\">\n      <th></th>\n      <th>Stock</th>\n      <th>Price</th>\n      <th>Change</th>\n      <th>Volume</th>\n      <th>Market Cap</th>\n      <th>PE Ratio</th>\n      <th>EPS</th>\n      <th>Dividend</th>\n      <th>Yield</th>\n      <th>Sector</th>\n      <th>Recommendation</th>\n    </tr>\n  </thead>\n  <tbody>\n    <tr>\n      <th>0</th>\n      <td>AAgilent Technologies, Inc.D</td>\n      <td>115.91</td>\n      <td>0.90%</td>\n      <td>6890000.0</td>\n      <td>3.391400e+10</td>\n      <td>30.40</td>\n      <td>3.81</td>\n      <td>−13.21%</td>\n      <td>0.76%</td>\n      <td>Health Technology</td>\n      <td>Buy</td>\n    </tr>\n    <tr>\n      <th>1</th>\n      <td>AAAlcoa CorporationD</td>\n      <td>28.85</td>\n      <td>−4.44%</td>\n      <td>8716000.0</td>\n      <td>5.148000e+09</td>\n      <td>—</td>\n      <td>−8.15</td>\n      <td>−259.86%</td>\n      <td>1.39%</td>\n      <td>Non-Energy Minerals</td>\n      <td>Neutral</td>\n    </tr>\n    <tr>\n      <th>2</th>\n      <td>AACAres Acquisition CorporationD</td>\n      <td>10.71</td>\n      <td>−0.09%</td>\n      <td>19471.0</td>\n      <td>7.561720e+08</td>\n      <td>—</td>\n      <td>−0.09</td>\n      <td>−134.01%</td>\n      <td>0.00%</td>\n      <td>Finance</td>\n      <td>—</td>\n    </tr>\n    <tr>\n      <th>3</th>\n      <td>AACIArmada Acquisition Corp. ID</td>\n      <td>10.75</td>\n      <td>0.00%</td>\n      <td>211.0</td>\n      <td>9.909700e+07</td>\n      <td>—</td>\n      <td>−0.03</td>\n      <td>86.19%</td>\n      <td>0.00%</td>\n      <td>Finance</td>\n      <td>—</td>\n    </tr>\n    <tr>\n      <th>4</th>\n      <td>AACTAres Acquisition Corporation IID</td>\n      <td>10.25</td>\n      <td>0.10%</td>\n      <td>14040.0</td>\n      <td>5.125000e+08</td>\n      <td>—</td>\n      <td>—</td>\n      <td>—</td>\n      <td>0.00%</td>\n      <td>Finance</td>\n      <td>—</td>\n    </tr>\n    <tr>\n      <th>...</th>\n      <td>...</td>\n      <td>...</td>\n      <td>...</td>\n      <td>...</td>\n      <td>...</td>\n      <td>...</td>\n      <td>...</td>\n      <td>...</td>\n      <td>...</td>\n      <td>...</td>\n      <td>...</td>\n    </tr>\n    <tr>\n      <th>495</th>\n      <td>AYAtlantica Sustainable Infrastructure plcD</td>\n      <td>22.88</td>\n      <td>−0.78%</td>\n      <td>461448.0</td>\n      <td>2.655000e+09</td>\n      <td>187.54</td>\n      <td>0.12</td>\n      <td>—</td>\n      <td>7.78%</td>\n      <td>Utilities</td>\n      <td>Buy</td>\n    </tr>\n    <tr>\n      <th>496</th>\n      <td>AYIAcuity Brands, Inc.D</td>\n      <td>159.59</td>\n      <td>−0.48%</td>\n      <td>708466.0</td>\n      <td>4.978000e+09</td>\n      <td>13.73</td>\n      <td>11.62</td>\n      <td>11.81%</td>\n      <td>0.33%</td>\n      <td>Producer Manufacturing</td>\n      <td>Buy</td>\n    </tr>\n    <tr>\n      <th>497</th>\n      <td>AYROAYRO, Inc.D</td>\n      <td>0.4854</td>\n      <td>−0.53%</td>\n      <td>672097.0</td>\n      <td>1.831500e+07</td>\n      <td>—</td>\n      <td>−0.64</td>\n      <td>22.59%</td>\n      <td>0.00%</td>\n      <td>Producer Manufacturing</td>\n      <td>Strong Buy</td>\n    </tr>\n    <tr>\n      <th>498</th>\n      <td>AYTUAytu BioPharma, Inc.D</td>\n      <td>1.62</td>\n      <td>5.88%</td>\n      <td>33445.0</td>\n      <td>6.124000e+06</td>\n      <td>—</td>\n      <td>−60.38</td>\n      <td>26.73%</td>\n      <td>0.00%</td>\n      <td>Health Technology</td>\n      <td>Strong Buy</td>\n    </tr>\n    <tr>\n      <th>499</th>\n      <td>AYXAlteryx, Inc.D</td>\n      <td>34.85</td>\n      <td>−2.13%</td>\n      <td>2289000.0</td>\n      <td>2.476000e+09</td>\n      <td>—</td>\n      <td>−4.52</td>\n      <td>0.50%</td>\n      <td>0.00%</td>\n      <td>Technology Services</td>\n      <td>Buy</td>\n    </tr>\n  </tbody>\n</table>\n<p>500 rows × 11 columns</p>\n</div>"
     },
     "execution_count": 79,
     "metadata": {},
     "output_type": "execute_result"
    }
   ],
   "source": [
    "data_for_all"
   ],
   "metadata": {
    "collapsed": false,
    "ExecuteTime": {
     "end_time": "2023-09-18T06:28:37.094460200Z",
     "start_time": "2023-09-18T06:28:37.070548500Z"
    }
   },
   "id": "e871fb9a8aaa2ef2"
  },
  {
   "cell_type": "code",
   "execution_count": null,
   "outputs": [],
   "source": [
    "import matplotlib.pyplot as plt\n",
    "# Lấy dữ liệu từ cột \"Price\"\n",
    "prices = data_for_all[\"Price\"]\n",
    "\n",
    "# Xử lý giá trị để chỉ lấy số và dấu thập phân, loại bỏ ký tự \"USD\"\n",
    "prices = prices.str.replace(' USD', '').str.replace('$', '').astype(float)\n",
    "\n",
    "# Vẽ biểu đồ cho cột \"Price\"\n",
    "plt.figure(figsize=(10, 6))  # Kích thước biểu đồ\n",
    "plt.plot(prices, marker='o', linestyle='-', color='b')  # Vẽ biểu đồ đường\n",
    "plt.title('Biểu đồ giá cổ phiếu')  # Tiêu đề biểu đồ\n",
    "plt.xlabel('Số lần load dữ liệu')  # Nhãn x cho trục hoành\n",
    "plt.ylabel('Giá')  # Nhãn y cho trục tung\n",
    "plt.grid(True)  # Hiển thị lưới\n",
    "\n",
    "# Hiển thị biểu đồ\n",
    "plt.show()\n"
   ],
   "metadata": {
    "collapsed": false
   },
   "id": "f972a1844ad047de"
  },
  {
   "cell_type": "code",
   "execution_count": null,
   "outputs": [],
   "source": [
    "# Lấy dữ liệu từ 5 cột tiếp theo\n",
    "columns_to_plot = [\"Change\", \"Volume\", \"Market Cap\", \"PE Ratio\", \"EPS\"]\n",
    "\n",
    "# Vẽ biểu đồ cho từng cột\n",
    "plt.figure(figsize=(12, 8))  # Kích thước biểu đồ\n",
    "\n",
    "for column in columns_to_plot:\n",
    "    plt.plot(data_for_all[column], marker='o', linestyle='-', label=column)\n",
    "\n",
    "plt.title('Biểu đồ các cột')  # Tiêu đề biểu đồ\n",
    "plt.xlabel('Số lần load dữ liệu')  # Nhãn x cho trục hoành\n",
    "plt.grid(True)  # Hiển thị lưới\n",
    "plt.legend()  # Hiển thị chú thích\n",
    "\n",
    "# Hiển thị biểu đồ\n",
    "plt.show()"
   ],
   "metadata": {
    "collapsed": false
   },
   "id": "787b0d290a7c86fc"
  },
  {
   "cell_type": "code",
   "execution_count": null,
   "outputs": [],
   "source": [
    "import matplotlib.pyplot as plt\n",
    "\n",
    "# Dữ liệu mẫu (ảo tưởng)\n",
    "volume_data = [500000, 750000, 300000, 400000]\n",
    "pe_ratio_data = [15, 20, 25, 30]\n",
    "stock_names = [\"Stock A\", \"Stock B\", \"Stock C\", \"Stock D\"]\n",
    "\n",
    "# Tạo biểu đồ pie cho dữ liệu \"Volume\"\n",
    "plt.figure(figsize=(8, 8))\n",
    "plt.pie(volume_data, labels=stock_names, autopct='%1.1f%%', startangle=140)\n",
    "plt.title('Phân phối Volume của các cổ phiếu')\n",
    "plt.axis('equal')  # Để biểu đồ tròn\n",
    "\n",
    "plt.show()\n",
    "\n",
    "# Tạo biểu đồ pie cho dữ liệu \"PE Ratio\"\n",
    "plt.figure(figsize=(8, 8))\n",
    "plt.pie(pe_ratio_data, labels=stock_names, autopct='%1.1f%%', startangle=140)\n",
    "plt.title('Phân phối PE Ratio của các cổ phiếu')\n",
    "plt.axis('equal')  # Để biểu đồ tròn\n",
    "\n",
    "plt.show()"
   ],
   "metadata": {
    "collapsed": false
   },
   "id": "f354a37176303816"
  },
  {
   "cell_type": "code",
   "execution_count": 81,
   "outputs": [
    {
     "ename": "ValueError",
     "evalue": "could not convert string to float: ''",
     "output_type": "error",
     "traceback": [
      "\u001B[1;31m---------------------------------------------------------------------------\u001B[0m",
      "\u001B[1;31mValueError\u001B[0m                                Traceback (most recent call last)",
      "\u001B[1;32m~\\AppData\\Local\\Temp\\ipykernel_24224\\7870730.py\u001B[0m in \u001B[0;36m<module>\u001B[1;34m\u001B[0m\n\u001B[0;32m     55\u001B[0m \u001B[0mdata_for_all\u001B[0m\u001B[1;33m[\u001B[0m\u001B[1;34m\"Change\"\u001B[0m\u001B[1;33m]\u001B[0m \u001B[1;33m=\u001B[0m \u001B[0mdata_for_all\u001B[0m\u001B[1;33m[\u001B[0m\u001B[1;34m\"Change\"\u001B[0m\u001B[1;33m]\u001B[0m\u001B[1;33m.\u001B[0m\u001B[0mapply\u001B[0m\u001B[1;33m(\u001B[0m\u001B[0mconvert_to_float\u001B[0m\u001B[1;33m)\u001B[0m\u001B[1;33m\u001B[0m\u001B[1;33m\u001B[0m\u001B[0m\n\u001B[0;32m     56\u001B[0m \u001B[0mdata_for_all\u001B[0m\u001B[1;33m[\u001B[0m\u001B[1;34m\"Volume\"\u001B[0m\u001B[1;33m]\u001B[0m \u001B[1;33m=\u001B[0m \u001B[0mdata_for_all\u001B[0m\u001B[1;33m[\u001B[0m\u001B[1;34m\"Volume\"\u001B[0m\u001B[1;33m]\u001B[0m\u001B[1;33m.\u001B[0m\u001B[0mapply\u001B[0m\u001B[1;33m(\u001B[0m\u001B[0mconvert_to_float\u001B[0m\u001B[1;33m)\u001B[0m\u001B[1;33m\u001B[0m\u001B[1;33m\u001B[0m\u001B[0m\n\u001B[1;32m---> 57\u001B[1;33m \u001B[0mdata_for_all\u001B[0m\u001B[1;33m[\u001B[0m\u001B[1;34m\"PE Ratio\"\u001B[0m\u001B[1;33m]\u001B[0m \u001B[1;33m=\u001B[0m \u001B[0mdata_for_all\u001B[0m\u001B[1;33m[\u001B[0m\u001B[1;34m\"PE Ratio\"\u001B[0m\u001B[1;33m]\u001B[0m\u001B[1;33m.\u001B[0m\u001B[0mapply\u001B[0m\u001B[1;33m(\u001B[0m\u001B[0mconvert_to_float\u001B[0m\u001B[1;33m)\u001B[0m\u001B[1;33m\u001B[0m\u001B[1;33m\u001B[0m\u001B[0m\n\u001B[0m\u001B[0;32m     58\u001B[0m \u001B[0mdata_for_all\u001B[0m\u001B[1;33m[\u001B[0m\u001B[1;34m\"EPS\"\u001B[0m\u001B[1;33m]\u001B[0m \u001B[1;33m=\u001B[0m \u001B[0mdata_for_all\u001B[0m\u001B[1;33m[\u001B[0m\u001B[1;34m\"EPS\"\u001B[0m\u001B[1;33m]\u001B[0m\u001B[1;33m.\u001B[0m\u001B[0mapply\u001B[0m\u001B[1;33m(\u001B[0m\u001B[0mconvert_to_float\u001B[0m\u001B[1;33m)\u001B[0m\u001B[1;33m\u001B[0m\u001B[1;33m\u001B[0m\u001B[0m\n\u001B[0;32m     59\u001B[0m \u001B[0mdata_for_all\u001B[0m\u001B[1;33m[\u001B[0m\u001B[1;34m\"Dividend\"\u001B[0m\u001B[1;33m]\u001B[0m \u001B[1;33m=\u001B[0m \u001B[0mdata_for_all\u001B[0m\u001B[1;33m[\u001B[0m\u001B[1;34m\"Dividend\"\u001B[0m\u001B[1;33m]\u001B[0m\u001B[1;33m.\u001B[0m\u001B[0mapply\u001B[0m\u001B[1;33m(\u001B[0m\u001B[0mconvert_to_float\u001B[0m\u001B[1;33m)\u001B[0m\u001B[1;33m\u001B[0m\u001B[1;33m\u001B[0m\u001B[0m\n",
      "\u001B[1;32m~\\AppData\\Local\\Programs\\Python\\Python39\\lib\\site-packages\\pandas\\core\\series.py\u001B[0m in \u001B[0;36mapply\u001B[1;34m(self, func, convert_dtype, args, **kwargs)\u001B[0m\n\u001B[0;32m   4628\u001B[0m         \u001B[0mdtype\u001B[0m\u001B[1;33m:\u001B[0m \u001B[0mfloat64\u001B[0m\u001B[1;33m\u001B[0m\u001B[1;33m\u001B[0m\u001B[0m\n\u001B[0;32m   4629\u001B[0m         \"\"\"\n\u001B[1;32m-> 4630\u001B[1;33m         \u001B[1;32mreturn\u001B[0m \u001B[0mSeriesApply\u001B[0m\u001B[1;33m(\u001B[0m\u001B[0mself\u001B[0m\u001B[1;33m,\u001B[0m \u001B[0mfunc\u001B[0m\u001B[1;33m,\u001B[0m \u001B[0mconvert_dtype\u001B[0m\u001B[1;33m,\u001B[0m \u001B[0margs\u001B[0m\u001B[1;33m,\u001B[0m \u001B[0mkwargs\u001B[0m\u001B[1;33m)\u001B[0m\u001B[1;33m.\u001B[0m\u001B[0mapply\u001B[0m\u001B[1;33m(\u001B[0m\u001B[1;33m)\u001B[0m\u001B[1;33m\u001B[0m\u001B[1;33m\u001B[0m\u001B[0m\n\u001B[0m\u001B[0;32m   4631\u001B[0m \u001B[1;33m\u001B[0m\u001B[0m\n\u001B[0;32m   4632\u001B[0m     def _reduce(\n",
      "\u001B[1;32m~\\AppData\\Local\\Programs\\Python\\Python39\\lib\\site-packages\\pandas\\core\\apply.py\u001B[0m in \u001B[0;36mapply\u001B[1;34m(self)\u001B[0m\n\u001B[0;32m   1023\u001B[0m \u001B[1;33m\u001B[0m\u001B[0m\n\u001B[0;32m   1024\u001B[0m         \u001B[1;31m# self.f is Callable\u001B[0m\u001B[1;33m\u001B[0m\u001B[1;33m\u001B[0m\u001B[0m\n\u001B[1;32m-> 1025\u001B[1;33m         \u001B[1;32mreturn\u001B[0m \u001B[0mself\u001B[0m\u001B[1;33m.\u001B[0m\u001B[0mapply_standard\u001B[0m\u001B[1;33m(\u001B[0m\u001B[1;33m)\u001B[0m\u001B[1;33m\u001B[0m\u001B[1;33m\u001B[0m\u001B[0m\n\u001B[0m\u001B[0;32m   1026\u001B[0m \u001B[1;33m\u001B[0m\u001B[0m\n\u001B[0;32m   1027\u001B[0m     \u001B[1;32mdef\u001B[0m \u001B[0magg\u001B[0m\u001B[1;33m(\u001B[0m\u001B[0mself\u001B[0m\u001B[1;33m)\u001B[0m\u001B[1;33m:\u001B[0m\u001B[1;33m\u001B[0m\u001B[1;33m\u001B[0m\u001B[0m\n",
      "\u001B[1;32m~\\AppData\\Local\\Programs\\Python\\Python39\\lib\\site-packages\\pandas\\core\\apply.py\u001B[0m in \u001B[0;36mapply_standard\u001B[1;34m(self)\u001B[0m\n\u001B[0;32m   1074\u001B[0m             \u001B[1;32melse\u001B[0m\u001B[1;33m:\u001B[0m\u001B[1;33m\u001B[0m\u001B[1;33m\u001B[0m\u001B[0m\n\u001B[0;32m   1075\u001B[0m                 \u001B[0mvalues\u001B[0m \u001B[1;33m=\u001B[0m \u001B[0mobj\u001B[0m\u001B[1;33m.\u001B[0m\u001B[0mastype\u001B[0m\u001B[1;33m(\u001B[0m\u001B[0mobject\u001B[0m\u001B[1;33m)\u001B[0m\u001B[1;33m.\u001B[0m\u001B[0m_values\u001B[0m\u001B[1;33m\u001B[0m\u001B[1;33m\u001B[0m\u001B[0m\n\u001B[1;32m-> 1076\u001B[1;33m                 mapped = lib.map_infer(\n\u001B[0m\u001B[0;32m   1077\u001B[0m                     \u001B[0mvalues\u001B[0m\u001B[1;33m,\u001B[0m\u001B[1;33m\u001B[0m\u001B[1;33m\u001B[0m\u001B[0m\n\u001B[0;32m   1078\u001B[0m                     \u001B[0mf\u001B[0m\u001B[1;33m,\u001B[0m\u001B[1;33m\u001B[0m\u001B[1;33m\u001B[0m\u001B[0m\n",
      "\u001B[1;32m~\\AppData\\Local\\Programs\\Python\\Python39\\lib\\site-packages\\pandas\\_libs\\lib.pyx\u001B[0m in \u001B[0;36mpandas._libs.lib.map_infer\u001B[1;34m()\u001B[0m\n",
      "\u001B[1;32m~\\AppData\\Local\\Temp\\ipykernel_24224\\7870730.py\u001B[0m in \u001B[0;36mconvert_to_float\u001B[1;34m(value)\u001B[0m\n\u001B[0;32m     49\u001B[0m \u001B[1;32mdef\u001B[0m \u001B[0mconvert_to_float\u001B[0m\u001B[1;33m(\u001B[0m\u001B[0mvalue\u001B[0m\u001B[1;33m)\u001B[0m\u001B[1;33m:\u001B[0m\u001B[1;33m\u001B[0m\u001B[1;33m\u001B[0m\u001B[0m\n\u001B[0;32m     50\u001B[0m     \u001B[1;32mif\u001B[0m \u001B[0mvalue\u001B[0m\u001B[1;33m.\u001B[0m\u001B[0mstrip\u001B[0m\u001B[1;33m(\u001B[0m\u001B[1;33m)\u001B[0m\u001B[1;33m:\u001B[0m  \u001B[1;31m# Kiểm tra nếu giá trị không trống\u001B[0m\u001B[1;33m\u001B[0m\u001B[1;33m\u001B[0m\u001B[0m\n\u001B[1;32m---> 51\u001B[1;33m         \u001B[1;32mreturn\u001B[0m \u001B[0mfloat\u001B[0m\u001B[1;33m(\u001B[0m\u001B[0mre\u001B[0m\u001B[1;33m.\u001B[0m\u001B[0msub\u001B[0m\u001B[1;33m(\u001B[0m\u001B[1;34mr'[^\\d.]'\u001B[0m\u001B[1;33m,\u001B[0m \u001B[1;34m''\u001B[0m\u001B[1;33m,\u001B[0m \u001B[0mvalue\u001B[0m\u001B[1;33m)\u001B[0m\u001B[1;33m)\u001B[0m\u001B[1;33m\u001B[0m\u001B[1;33m\u001B[0m\u001B[0m\n\u001B[0m\u001B[0;32m     52\u001B[0m     \u001B[1;32mreturn\u001B[0m \u001B[0mnp\u001B[0m\u001B[1;33m.\u001B[0m\u001B[0mnan\u001B[0m  \u001B[1;31m# Trả về NaN nếu giá trị trống\u001B[0m\u001B[1;33m\u001B[0m\u001B[1;33m\u001B[0m\u001B[0m\n\u001B[0;32m     53\u001B[0m \u001B[1;33m\u001B[0m\u001B[0m\n",
      "\u001B[1;31mValueError\u001B[0m: could not convert string to float: ''"
     ]
    }
   ],
   "source": [
    "import numpy as np\n",
    "import re\n",
    "from selenium import webdriver\n",
    "from selenium.webdriver.common.by import By\n",
    "from selenium.webdriver.support.ui import WebDriverWait\n",
    "from selenium.webdriver.support import expected_conditions as EC\n",
    "from bs4 import BeautifulSoup\n",
    "import pandas as pd\n",
    "\n",
    "# Khởi tạo trình duyệt Chrome\n",
    "driver = webdriver.Chrome()\n",
    "\n",
    "# Mở trang web Tradingview\n",
    "driver.get(\"https://www.tradingview.com/markets/stocks-usa/market-movers-all-stocks/\")\n",
    "\n",
    "# Số lần nhấn nút \"Load More\" tối đa (hoặc bạn có thể sử dụng điều kiện khác)\n",
    "max_loads = 5  # Thay đổi giá trị này nếu cần\n",
    "\n",
    "loads = 0\n",
    "data_rows = []\n",
    "\n",
    "while loads < max_loads:\n",
    "    try:\n",
    "        load_more_button = WebDriverWait(driver, 10).until(EC.element_to_be_clickable((By.CSS_SELECTOR, \".loadButton-SFwfC2e0\")))\n",
    "        load_more_button.click()\n",
    "        loads += 1\n",
    "    except:\n",
    "        break\n",
    "\n",
    "# Chờ cho dữ liệu được tải đầy đủ\n",
    "WebDriverWait(driver, 10).until(EC.invisibility_of_element_located((By.CSS_SELECTOR, \".loadingContent-2CAlGV8F\")))\n",
    "\n",
    "# Tạo biến soup1 từ trang web đã tải\n",
    "soup1 = BeautifulSoup(driver.page_source, 'html.parser')\n",
    "\n",
    "# Trích xuất dữ liệu và thêm vào danh sách dòng dữ liệu\n",
    "row_data = soup1.find_all('tr', class_='row-RdUXZpkv')\n",
    "for row in row_data:\n",
    "    row_data = row.find_all('td')\n",
    "    individual_row = [data.text.strip() for data in row_data]\n",
    "    if len(individual_row) == 11:  # Kiểm tra xem có đủ dữ liệu không\n",
    "        data_rows.append(individual_row)\n",
    "\n",
    "# Tạo DataFrame từ danh sách dòng dữ liệu\n",
    "data_for_all = pd.DataFrame(data_rows, columns=[\"Stock\", \"Price\", \"Change\", \"Volume\", \"Market Cap\", \"PE Ratio\", \"EPS\", \"Dividend\", \"Yield\", \"Sector\", \"Recommendation\"])\n",
    "data_for_all = data_for_all[data_for_all[\"Price\"].str.contains(\"USD\")]\n",
    "\n",
    "# Xử lý dữ liệu\n",
    "def convert_to_float(value):\n",
    "    if value.strip():  # Kiểm tra nếu giá trị không trống\n",
    "        return float(re.sub(r'[^\\d.]', '', value))\n",
    "    return np.nan  # Trả về NaN nếu giá trị trống\n",
    "\n",
    "data_for_all[\"Price\"] = data_for_all[\"Price\"].apply(convert_to_float)\n",
    "data_for_all[\"Change\"] = data_for_all[\"Change\"].apply(convert_to_float)\n",
    "data_for_all[\"Volume\"] = data_for_all[\"Volume\"].apply(convert_to_float)\n",
    "data_for_all[\"PE Ratio\"] = data_for_all[\"PE Ratio\"].apply(convert_to_float)\n",
    "data_for_all[\"EPS\"] = data_for_all[\"EPS\"].apply(convert_to_float)\n",
    "data_for_all[\"Dividend\"] = data_for_all[\"Dividend\"].apply(convert_to_float)\n",
    "data_for_all[\"Yield\"] = data_for_all[\"Yield\"].apply(convert_to_float)\n",
    "\n",
    "# In ra DataFrame\n",
    "print(data_for_all)\n",
    "\n",
    "# Đóng trình duyệt sau khi hoàn thành\n",
    "driver.quit()\n"
   ],
   "metadata": {
    "collapsed": false,
    "ExecuteTime": {
     "end_time": "2023-09-18T06:32:52.383724400Z",
     "start_time": "2023-09-18T06:32:39.042580100Z"
    }
   },
   "id": "b421094706163300"
  },
  {
   "cell_type": "code",
   "execution_count": null,
   "outputs": [],
   "source": [],
   "metadata": {
    "collapsed": false
   },
   "id": "6c0ea3ce3b8f8634"
  }
 ],
 "metadata": {
  "kernelspec": {
   "display_name": "Python 3 (ipykernel)",
   "language": "python",
   "name": "python3"
  },
  "language_info": {
   "codemirror_mode": {
    "name": "ipython",
    "version": 3
   },
   "file_extension": ".py",
   "mimetype": "text/x-python",
   "name": "python",
   "nbconvert_exporter": "python",
   "pygments_lexer": "ipython3",
   "version": "3.9.13"
  }
 },
 "nbformat": 4,
 "nbformat_minor": 5
}

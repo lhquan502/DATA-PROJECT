{
 "cells": [
  {
   "cell_type": "code",
   "execution_count": 1,
   "outputs": [
    {
     "name": "stdout",
     "output_type": "stream",
     "text": [
      "                                       Stock       Price  Change    Volume  \\\n",
      "0               AAgilent Technologies, Inc.D  115.91 USD   0.90%     6.89M   \n",
      "1                       AAAlcoa CorporationD   28.85 USD  −4.44%    8.716M   \n",
      "2           AACAres Acquisition CorporationD   10.71 USD  −0.09%   19.471K   \n",
      "3            AACIArmada Acquisition Corp. ID   10.75 USD   0.00%       211   \n",
      "4       AACTAres Acquisition Corporation IID   10.25 USD   0.10%    14.04K   \n",
      "..                                       ...         ...     ...       ...   \n",
      "995         CLVRClever Leaves Holdings Inc.D    3.78 USD   0.53%    82.16K   \n",
      "996                       CLVTClarivate PlcD    7.35 USD   1.24%    6.997M   \n",
      "997         CLWClearwater Paper CorporationD   35.14 USD  −0.87%  317.045K   \n",
      "998  CLWTEuro Tech Holdings Company LimitedD    1.50 USD   1.35%    7.671K   \n",
      "999                 CLXClorox Company (The)D  146.20 USD  −2.17%    1.704M   \n",
      "\n",
      "       Market Cap PE Ratio        EPS   Dividend  Yield  \\\n",
      "0     33.914B USD    30.40   3.81 USD    −13.21%  0.76%   \n",
      "1      5.148B USD        —  −8.15 USD   −259.86%  1.39%   \n",
      "2    756.172M USD        —  −0.09 USD   −134.01%  0.00%   \n",
      "3     99.097M USD        —  −0.03 USD     86.19%  0.00%   \n",
      "4    640.625M USD        —          —          —  0.00%   \n",
      "..            ...      ...        ...        ...    ...   \n",
      "995    5.762M USD        —  −1.31 USD     95.10%  0.00%   \n",
      "996     4.97B USD        —  −6.41 USD  −1574.54%  0.00%   \n",
      "997   587.28M USD     8.77   4.01 USD     60.30%  0.00%   \n",
      "998   11.585M USD    31.45   0.05 USD    −52.35%  0.00%   \n",
      "999   18.103B USD   122.04   1.20 USD    −67.87%  3.24%   \n",
      "\n",
      "                    Sector Recommendation  \n",
      "0        Health Technology            Buy  \n",
      "1      Non-Energy Minerals        Neutral  \n",
      "2                  Finance              —  \n",
      "3                  Finance              —  \n",
      "4                  Finance              —  \n",
      "..                     ...            ...  \n",
      "995      Health Technology        Neutral  \n",
      "996    Commercial Services            Buy  \n",
      "997     Process Industries     Strong Buy  \n",
      "998  Electronic Technology              —  \n",
      "999  Consumer Non-Durables           Sell  \n",
      "\n",
      "[1000 rows x 11 columns]\n"
     ]
    }
   ],
   "source": [
    "from selenium import webdriver\n",
    "from selenium.webdriver.common.by import By\n",
    "from selenium.webdriver.support.ui import WebDriverWait\n",
    "from selenium.webdriver.support import expected_conditions as EC\n",
    "from bs4 import BeautifulSoup\n",
    "import pandas as pd\n",
    "\n",
    "# Khởi tạo trình duyệt Chrome\n",
    "driver = webdriver.Chrome()\n",
    "\n",
    "# Mở trang web Tradingview\n",
    "driver.get(\"https://www.tradingview.com/markets/stocks-usa/market-movers-all-stocks/\")\n",
    "\n",
    "# Số lần nhấn nút \"Load More\" tối đa (hoặc bạn có thể sử dụng điều kiện khác)\n",
    "max_loads = 10  # Thay đổi giá trị này nếu cần\n",
    "\n",
    "loads = 0\n",
    "data_rows = []\n",
    "\n",
    "while loads < max_loads:\n",
    "    try:\n",
    "        load_more_button = WebDriverWait(driver, 10).until(EC.element_to_be_clickable((By.CSS_SELECTOR, \".loadButton-SFwfC2e0\")))\n",
    "        load_more_button.click()\n",
    "        loads += 1\n",
    "    except:\n",
    "        break\n",
    "\n",
    "# Chờ cho dữ liệu được tải đầy đủ\n",
    "WebDriverWait(driver, 10).until(EC.invisibility_of_element_located((By.CSS_SELECTOR, \".loadingContent-2CAlGV8F\")))\n",
    "\n",
    "# Tạo biến soup1 từ trang web đã tải\n",
    "soup1 = BeautifulSoup(driver.page_source, 'html.parser')\n",
    "\n",
    "# Trích xuất dữ liệu và thêm vào danh sách dòng dữ liệu\n",
    "row_data = soup1.find_all('tr', class_='row-RdUXZpkv')\n",
    "for row in row_data:\n",
    "    row_data = row.find_all('td')\n",
    "    individual_row = [data.text.strip() for data in row_data]\n",
    "    if len(individual_row) == 11:  # Kiểm tra xem có đủ dữ liệu không\n",
    "        data_rows.append(individual_row)\n",
    "\n",
    "# Tạo DataFrame từ danh sách dòng dữ liệu\n",
    "data_for_all = pd.DataFrame(data_rows, columns=[\"Stock\", \"Price\", \"Change\", \"Volume\", \"Market Cap\", \"PE Ratio\", \"EPS\", \"Dividend\", \"Yield\", \"Sector\", \"Recommendation\"])\n",
    "\n",
    "# In ra DataFrame\n",
    "print(data_for_all)\n",
    "\n",
    "# Đóng trình duyệt sau khi hoàn thành\n",
    "driver.quit()"
   ],
   "metadata": {
    "collapsed": false,
    "ExecuteTime": {
     "end_time": "2023-09-16T17:18:26.623816200Z",
     "start_time": "2023-09-16T17:17:53.601035800Z"
    }
   },
   "id": "23e0cafc-0e01-4285-9f7c-a721b1ec7864"
  },
  {
   "cell_type": "code",
   "execution_count": null,
   "outputs": [],
   "source": [
    "#url = 'https://www.tradingview.com/markets/stocks-usa/market-movers-all-stocks/'\n",
    "\n",
    "#page = requests.get(url)\n",
    "\n",
    "#soup = BeautifulSoup(page.text, 'html')"
   ],
   "metadata": {
    "collapsed": false
   },
   "id": "f555ce47-a58c-4f8c-8d7f-59c1179fd904"
  },
  {
   "cell_type": "code",
   "execution_count": null,
   "outputs": [],
   "source": [
    "# Khởi tạo trình duyệt Chrome\n",
    "driver = webdriver.Chrome()\n",
    "\n",
    "# Mở trang web Tradingview\n",
    "driver.get(\"https://www.tradingview.com/markets/stocks-usa/market-movers-all-stocks/\")\n",
    "\n",
    "# Chờ cho nút \"Load More\" xuất hiện và bấm nó\n",
    "load_more_button = WebDriverWait(driver, 10).until(EC.element_to_be_clickable((By.CSS_SELECTOR, \".loadButton-SFwfC2e0\")))\n",
    "load_more_button.click()\n",
    "\n",
    "# Tải dữ liệu mới được tải lên\n",
    "new_data = driver.page_source\n",
    "\n",
    "# Đóng trình duyệt\n",
    "driver.quit()\n",
    "\n",
    "print(new_data)"
   ],
   "metadata": {
    "collapsed": false
   },
   "id": "04d1bd2a-c29b-423c-92c0-0f419094284a"
  },
  {
   "cell_type": "code",
   "execution_count": null,
   "outputs": [],
   "source": [
    "table = soup1.find('div', class_= \"shadow-zuRb9wy5\")"
   ],
   "metadata": {
    "collapsed": false
   },
   "id": "b1b83de14f663912"
  },
  {
   "cell_type": "code",
   "execution_count": null,
   "outputs": [],
   "source": [
    "trading_title = table.find_all('th', class_= \"cell-seAzPAHn\")\n",
    "clean_trading_title = [title.text for title in trading_title]"
   ],
   "metadata": {
    "collapsed": false
   },
   "id": "a4756a816de44381"
  },
  {
   "cell_type": "code",
   "execution_count": null,
   "outputs": [],
   "source": [
    "clean_trading_title_unique = []\n",
    "for item in clean_trading_title:\n",
    "    if item not in clean_trading_title_unique:\n",
    "       clean_trading_title_unique.append(item)"
   ],
   "metadata": {
    "collapsed": false
   },
   "id": "1a056adb8d6ac600"
  },
  {
   "cell_type": "code",
   "execution_count": null,
   "outputs": [],
   "source": [
    "clean_trading_title_unique"
   ],
   "metadata": {
    "collapsed": false
   },
   "id": "5b854619f7ff2ed3"
  },
  {
   "cell_type": "code",
   "execution_count": null,
   "outputs": [],
   "source": [
    "data_for_all = pd.DataFrame(columns = clean_trading_title_unique)\n",
    "\n",
    "data_for_all"
   ],
   "metadata": {
    "collapsed": false
   },
   "id": "8fb5009c97fc6a4c"
  },
  {
   "cell_type": "code",
   "execution_count": null,
   "outputs": [],
   "source": [
    "# Tạo đối tượng BeautifulSoup từ tệp dữ liệu new_data\n",
    "soup1 = BeautifulSoup(new_data, 'html')\n",
    "\n",
    "# Tìm tất cả các phần tử <tr> có thuộc tính class bằng \"row-RdUXZpkv\"\n",
    "row_data = soup1.find_all('tr', class_='row-RdUXZpkv')"
   ],
   "metadata": {
    "collapsed": false
   },
   "id": "c4da243b7f193e7a"
  },
  {
   "cell_type": "code",
   "execution_count": null,
   "outputs": [],
   "source": [
    "row_data"
   ],
   "metadata": {
    "collapsed": false
   },
   "id": "52b6de9d1f4575b6"
  },
  {
   "cell_type": "code",
   "execution_count": null,
   "outputs": [],
   "source": [
    "for row in row_data:\n",
    "    row_data = row.find_all('td')\n",
    "    individual_row = [data.text.strip() for data in row_data]\n",
    "    length = len(data_for_all)\n",
    "    data_for_all.loc[length] = individual_row"
   ],
   "metadata": {
    "collapsed": false
   },
   "id": "40bee44c6559d7c7"
  },
  {
   "cell_type": "code",
   "execution_count": null,
   "outputs": [],
   "source": [
    "data_for_all"
   ],
   "metadata": {
    "collapsed": false
   },
   "id": "3d2ad9a5c9c3a39"
  },
  {
   "cell_type": "code",
   "execution_count": null,
   "outputs": [],
   "source": [
    "row_data"
   ],
   "metadata": {
    "collapsed": false
   },
   "id": "13ada434b1fec495"
  },
  {
   "cell_type": "code",
   "execution_count": 19,
   "outputs": [
    {
     "ename": "AttributeError",
     "evalue": "'str' object has no attribute 'capabilities'",
     "output_type": "error",
     "traceback": [
      "\u001B[1;31m---------------------------------------------------------------------------\u001B[0m",
      "\u001B[1;31mAttributeError\u001B[0m                            Traceback (most recent call last)",
      "File \u001B[1;32m~\\AppData\\Local\\Programs\\Python\\Python39\\lib\\site-packages\\selenium\\webdriver\\common\\driver_finder.py:38\u001B[0m, in \u001B[0;36mDriverFinder.get_path\u001B[1;34m(service, options)\u001B[0m\n\u001B[0;32m     37\u001B[0m \u001B[38;5;28;01mtry\u001B[39;00m:\n\u001B[1;32m---> 38\u001B[0m     path \u001B[38;5;241m=\u001B[39m \u001B[43mSeleniumManager\u001B[49m\u001B[43m(\u001B[49m\u001B[43m)\u001B[49m\u001B[38;5;241;43m.\u001B[39;49m\u001B[43mdriver_location\u001B[49m\u001B[43m(\u001B[49m\u001B[43moptions\u001B[49m\u001B[43m)\u001B[49m \u001B[38;5;28;01mif\u001B[39;00m path \u001B[38;5;129;01mis\u001B[39;00m \u001B[38;5;28;01mNone\u001B[39;00m \u001B[38;5;28;01melse\u001B[39;00m path\n\u001B[0;32m     39\u001B[0m \u001B[38;5;28;01mexcept\u001B[39;00m \u001B[38;5;167;01mException\u001B[39;00m \u001B[38;5;28;01mas\u001B[39;00m err:\n",
      "File \u001B[1;32m~\\AppData\\Local\\Programs\\Python\\Python39\\lib\\site-packages\\selenium\\webdriver\\common\\selenium_manager.py:76\u001B[0m, in \u001B[0;36mSeleniumManager.driver_location\u001B[1;34m(self, options)\u001B[0m\n\u001B[0;32m     69\u001B[0m \u001B[38;5;250m\u001B[39m\u001B[38;5;124;03m\"\"\"Determines the path of the correct driver.\u001B[39;00m\n\u001B[0;32m     70\u001B[0m \n\u001B[0;32m     71\u001B[0m \u001B[38;5;124;03m:Args:\u001B[39;00m\n\u001B[0;32m     72\u001B[0m \u001B[38;5;124;03m - browser: which browser to get the driver path for.\u001B[39;00m\n\u001B[0;32m     73\u001B[0m \u001B[38;5;124;03m:Returns: The driver path to use\u001B[39;00m\n\u001B[0;32m     74\u001B[0m \u001B[38;5;124;03m\"\"\"\u001B[39;00m\n\u001B[1;32m---> 76\u001B[0m browser \u001B[38;5;241m=\u001B[39m \u001B[43moptions\u001B[49m\u001B[38;5;241;43m.\u001B[39;49m\u001B[43mcapabilities\u001B[49m[\u001B[38;5;124m\"\u001B[39m\u001B[38;5;124mbrowserName\u001B[39m\u001B[38;5;124m\"\u001B[39m]\n\u001B[0;32m     78\u001B[0m args \u001B[38;5;241m=\u001B[39m [\u001B[38;5;28mstr\u001B[39m(\u001B[38;5;28mself\u001B[39m\u001B[38;5;241m.\u001B[39mget_binary()), \u001B[38;5;124m\"\u001B[39m\u001B[38;5;124m--browser\u001B[39m\u001B[38;5;124m\"\u001B[39m, browser]\n",
      "\u001B[1;31mAttributeError\u001B[0m: 'str' object has no attribute 'capabilities'",
      "\nDuring handling of the above exception, another exception occurred:\n",
      "\u001B[1;31mAttributeError\u001B[0m                            Traceback (most recent call last)",
      "Cell \u001B[1;32mIn[19], line 11\u001B[0m\n\u001B[0;32m      6\u001B[0m \u001B[38;5;28;01mimport\u001B[39;00m \u001B[38;5;21;01mpandas\u001B[39;00m \u001B[38;5;28;01mas\u001B[39;00m \u001B[38;5;21;01mpd\u001B[39;00m\n\u001B[0;32m      9\u001B[0m chrome_path \u001B[38;5;241m=\u001B[39m\u001B[38;5;124m'\u001B[39m\u001B[38;5;124mD:\u001B[39m\u001B[38;5;124m\\\u001B[39m\u001B[38;5;124mchromedriver-win64\u001B[39m\u001B[38;5;124m\\\u001B[39m\u001B[38;5;124mchromedriver.exe\u001B[39m\u001B[38;5;124m'\u001B[39m\n\u001B[1;32m---> 11\u001B[0m driver \u001B[38;5;241m=\u001B[39m \u001B[43mwebdriver\u001B[49m\u001B[38;5;241;43m.\u001B[39;49m\u001B[43mChrome\u001B[49m\u001B[43m(\u001B[49m\u001B[43mchrome_path\u001B[49m\u001B[43m)\u001B[49m\n\u001B[0;32m     13\u001B[0m \u001B[38;5;66;03m# Mở trang web Tradingview\u001B[39;00m\n\u001B[0;32m     14\u001B[0m driver\u001B[38;5;241m.\u001B[39mget(\u001B[38;5;124m\"\u001B[39m\u001B[38;5;124mhttps://www.tradingview.com/markets/stocks-usa/market-movers-all-stocks/\u001B[39m\u001B[38;5;124m\"\u001B[39m)\n",
      "File \u001B[1;32m~\\AppData\\Local\\Programs\\Python\\Python39\\lib\\site-packages\\selenium\\webdriver\\chrome\\webdriver.py:45\u001B[0m, in \u001B[0;36mWebDriver.__init__\u001B[1;34m(self, options, service, keep_alive)\u001B[0m\n\u001B[0;32m     42\u001B[0m service \u001B[38;5;241m=\u001B[39m service \u001B[38;5;28;01mif\u001B[39;00m service \u001B[38;5;28;01melse\u001B[39;00m Service()\n\u001B[0;32m     43\u001B[0m options \u001B[38;5;241m=\u001B[39m options \u001B[38;5;28;01mif\u001B[39;00m options \u001B[38;5;28;01melse\u001B[39;00m Options()\n\u001B[1;32m---> 45\u001B[0m \u001B[38;5;28;43msuper\u001B[39;49m\u001B[43m(\u001B[49m\u001B[43m)\u001B[49m\u001B[38;5;241;43m.\u001B[39;49m\u001B[38;5;21;43m__init__\u001B[39;49m\u001B[43m(\u001B[49m\n\u001B[0;32m     46\u001B[0m \u001B[43m    \u001B[49m\u001B[43mDesiredCapabilities\u001B[49m\u001B[38;5;241;43m.\u001B[39;49m\u001B[43mCHROME\u001B[49m\u001B[43m[\u001B[49m\u001B[38;5;124;43m\"\u001B[39;49m\u001B[38;5;124;43mbrowserName\u001B[39;49m\u001B[38;5;124;43m\"\u001B[39;49m\u001B[43m]\u001B[49m\u001B[43m,\u001B[49m\n\u001B[0;32m     47\u001B[0m \u001B[43m    \u001B[49m\u001B[38;5;124;43m\"\u001B[39;49m\u001B[38;5;124;43mgoog\u001B[39;49m\u001B[38;5;124;43m\"\u001B[39;49m\u001B[43m,\u001B[49m\n\u001B[0;32m     48\u001B[0m \u001B[43m    \u001B[49m\u001B[43moptions\u001B[49m\u001B[43m,\u001B[49m\n\u001B[0;32m     49\u001B[0m \u001B[43m    \u001B[49m\u001B[43mservice\u001B[49m\u001B[43m,\u001B[49m\n\u001B[0;32m     50\u001B[0m \u001B[43m    \u001B[49m\u001B[43mkeep_alive\u001B[49m\u001B[43m,\u001B[49m\n\u001B[0;32m     51\u001B[0m \u001B[43m\u001B[49m\u001B[43m)\u001B[49m\n",
      "File \u001B[1;32m~\\AppData\\Local\\Programs\\Python\\Python39\\lib\\site-packages\\selenium\\webdriver\\chromium\\webdriver.py:51\u001B[0m, in \u001B[0;36mChromiumDriver.__init__\u001B[1;34m(self, browser_name, vendor_prefix, options, service, keep_alive)\u001B[0m\n\u001B[0;32m     47\u001B[0m \u001B[38;5;28mself\u001B[39m\u001B[38;5;241m.\u001B[39mvendor_prefix \u001B[38;5;241m=\u001B[39m vendor_prefix\n\u001B[0;32m     49\u001B[0m \u001B[38;5;28mself\u001B[39m\u001B[38;5;241m.\u001B[39mservice \u001B[38;5;241m=\u001B[39m service\n\u001B[1;32m---> 51\u001B[0m \u001B[38;5;28mself\u001B[39m\u001B[38;5;241m.\u001B[39mservice\u001B[38;5;241m.\u001B[39mpath \u001B[38;5;241m=\u001B[39m \u001B[43mDriverFinder\u001B[49m\u001B[38;5;241;43m.\u001B[39;49m\u001B[43mget_path\u001B[49m\u001B[43m(\u001B[49m\u001B[38;5;28;43mself\u001B[39;49m\u001B[38;5;241;43m.\u001B[39;49m\u001B[43mservice\u001B[49m\u001B[43m,\u001B[49m\u001B[43m \u001B[49m\u001B[43moptions\u001B[49m\u001B[43m)\u001B[49m\n\u001B[0;32m     53\u001B[0m \u001B[38;5;28mself\u001B[39m\u001B[38;5;241m.\u001B[39mservice\u001B[38;5;241m.\u001B[39mstart()\n\u001B[0;32m     55\u001B[0m \u001B[38;5;28;01mtry\u001B[39;00m:\n",
      "File \u001B[1;32m~\\AppData\\Local\\Programs\\Python\\Python39\\lib\\site-packages\\selenium\\webdriver\\common\\driver_finder.py:40\u001B[0m, in \u001B[0;36mDriverFinder.get_path\u001B[1;34m(service, options)\u001B[0m\n\u001B[0;32m     38\u001B[0m     path \u001B[38;5;241m=\u001B[39m SeleniumManager()\u001B[38;5;241m.\u001B[39mdriver_location(options) \u001B[38;5;28;01mif\u001B[39;00m path \u001B[38;5;129;01mis\u001B[39;00m \u001B[38;5;28;01mNone\u001B[39;00m \u001B[38;5;28;01melse\u001B[39;00m path\n\u001B[0;32m     39\u001B[0m \u001B[38;5;28;01mexcept\u001B[39;00m \u001B[38;5;167;01mException\u001B[39;00m \u001B[38;5;28;01mas\u001B[39;00m err:\n\u001B[1;32m---> 40\u001B[0m     msg \u001B[38;5;241m=\u001B[39m \u001B[38;5;124mf\u001B[39m\u001B[38;5;124m\"\u001B[39m\u001B[38;5;124mUnable to obtain driver for \u001B[39m\u001B[38;5;132;01m{\u001B[39;00m\u001B[43moptions\u001B[49m\u001B[38;5;241;43m.\u001B[39;49m\u001B[43mcapabilities\u001B[49m[\u001B[38;5;124m'\u001B[39m\u001B[38;5;124mbrowserName\u001B[39m\u001B[38;5;124m'\u001B[39m]\u001B[38;5;132;01m}\u001B[39;00m\u001B[38;5;124m using Selenium Manager.\u001B[39m\u001B[38;5;124m\"\u001B[39m\n\u001B[0;32m     41\u001B[0m     \u001B[38;5;28;01mraise\u001B[39;00m NoSuchDriverException(msg) \u001B[38;5;28;01mfrom\u001B[39;00m \u001B[38;5;21;01merr\u001B[39;00m\n\u001B[0;32m     43\u001B[0m \u001B[38;5;28;01mif\u001B[39;00m path \u001B[38;5;129;01mis\u001B[39;00m \u001B[38;5;28;01mNone\u001B[39;00m \u001B[38;5;129;01mor\u001B[39;00m \u001B[38;5;129;01mnot\u001B[39;00m Path(path)\u001B[38;5;241m.\u001B[39mis_file():\n",
      "\u001B[1;31mAttributeError\u001B[0m: 'str' object has no attribute 'capabilities'"
     ]
    }
   ],
   "source": [
    "from selenium import webdriver\n",
    "from selenium.webdriver.common.by import By\n",
    "from selenium.webdriver.support.ui import WebDriverWait\n",
    "from selenium.webdriver.support import expected_conditions as EC\n",
    "from bs4 import BeautifulSoup\n",
    "import pandas as pd\n",
    "\n",
    "chrome_path = 'D:\\chromedriver-win64\\chromedriver.exe'\n",
    "\n",
    "chrome_options = webdriver.ChromeOptions()\n",
    "driver = webdriver.Chrome(executable_path=chrome_path, options=chrome_options)\n",
    "\n",
    "# Mở trang web Tradingview\n",
    "driver.get(\"https://www.tradingview.com/markets/stocks-usa/market-movers-all-stocks/\")\n",
    "\n",
    "# Chờ cho nút \"Load More\" xuất hiện và bấm nó\n",
    "load_more_button = WebDriverWait(driver, 10).until(EC.element_to_be_clickable((By.CSS_SELECTOR, \".loadButton-SFwfC2e0\")))\n",
    "load_more_button.click()\n",
    "\n",
    "# Chờ cho dữ liệu được tải đầy đủ\n",
    "WebDriverWait(driver, 10).until(EC.invisibility_of_element_located((By.CSS_SELECTOR, \".loadingContent-2CAlGV8F\")))\n",
    "\n",
    "# Tạo biến soup1 từ trang web đã tải\n",
    "soup1 = BeautifulSoup(driver.page_source, 'html.parser')\n",
    "\n",
    "# Tìm tất cả các phần tử <tr> có thuộc tính class bằng \"row-RdUXZpkv\"\n",
    "row_data = soup1.find_all('tr', class_='row-RdUXZpkv')\n",
    "\n",
    "# Khởi tạo DataFrame trước khi sử dụng\n",
    "clean_trading_title_unique = []\n",
    "for row in row_data:\n",
    "    row_data = row.find_all('td')\n",
    "    individual_row = [data.text.strip() for data in row_data]\n",
    "    if not clean_trading_title_unique:\n",
    "        clean_trading_title_unique = individual_row\n",
    "    else:\n",
    "        # Kiểm tra xem có dữ liệu mới nào không\n",
    "        if len(individual_row) == len(clean_trading_title_unique):\n",
    "            clean_trading_title_unique = individual_row\n",
    "        else:\n",
    "            break\n",
    "\n",
    "data_for_all = pd.DataFrame(columns=clean_trading_title_unique)\n",
    "\n",
    "# Trích xuất dữ liệu và thêm vào DataFrame\n",
    "for row in row_data:\n",
    "    row_data = row.find_all('td')\n",
    "    individual_row = [data.text.strip() for data in row_data]\n",
    "    if len(individual_row) == len(clean_trading_title_unique):\n",
    "        data_for_all = data_for_all.append(pd.Series(individual_row, index=clean_trading_title_unique), ignore_index=True)\n",
    "\n",
    "# In ra DataFrame\n",
    "print(data_for_all)\n",
    "\n",
    "# Đóng trình duyệt sau khi hoàn thành\n",
    "driver.quit()"
   ],
   "metadata": {
    "collapsed": false,
    "ExecuteTime": {
     "end_time": "2023-09-16T16:39:08.953275100Z",
     "start_time": "2023-09-16T16:39:08.878383600Z"
    }
   },
   "id": "88c27f41501ec2a6"
  },
  {
   "cell_type": "code",
   "execution_count": null,
   "outputs": [],
   "source": [],
   "metadata": {
    "collapsed": false
   },
   "id": "78db186d142512f"
  }
 ],
 "metadata": {
  "kernelspec": {
   "display_name": "Python 3 (ipykernel)",
   "language": "python",
   "name": "python3"
  },
  "language_info": {
   "codemirror_mode": {
    "name": "ipython",
    "version": 3
   },
   "file_extension": ".py",
   "mimetype": "text/x-python",
   "name": "python",
   "nbconvert_exporter": "python",
   "pygments_lexer": "ipython3",
   "version": "3.9.13"
  }
 },
 "nbformat": 4,
 "nbformat_minor": 5
}
